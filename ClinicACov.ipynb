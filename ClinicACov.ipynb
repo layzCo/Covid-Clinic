{
 "cells": [
  {
   "cell_type": "code",
   "execution_count": 1,
   "id": "28d39b7b",
   "metadata": {},
   "outputs": [],
   "source": [
    "import pandas as pd\n",
    "import numpy as np\n",
    "import seaborn as sns\n",
    "import matplotlib.pyplot as plt\n",
    "\n",
    "sns.set (style='darkgrid')"
   ]
  },
  {
   "cell_type": "markdown",
   "id": "b5340ae5",
   "metadata": {},
   "source": [
    "## EDA"
   ]
  },
  {
   "cell_type": "code",
   "execution_count": 2,
   "id": "dc7a387b",
   "metadata": {},
   "outputs": [
    {
     "name": "stdout",
     "output_type": "stream",
     "text": [
      "<class 'pandas.core.frame.DataFrame'>\n",
      "RangeIndex: 1000 entries, 0 to 999\n",
      "Data columns (total 13 columns):\n",
      " #   Column            Non-Null Count  Dtype         \n",
      "---  ------            --------------  -----         \n",
      " 0   TrxNumber         1000 non-null   int64         \n",
      " 1   TrxType           1000 non-null   object        \n",
      " 2   Branch            1000 non-null   object        \n",
      " 3   Package           1000 non-null   object        \n",
      " 4   PatientBirthDate  1000 non-null   datetime64[ns]\n",
      " 5   PatientGender     1000 non-null   object        \n",
      " 6   PromoCode         1000 non-null   object        \n",
      " 7   GrandTotal        1000 non-null   int64         \n",
      " 8   TotalDiscount     1000 non-null   int64         \n",
      " 9   AdminFee          1000 non-null   int64         \n",
      " 10  TotalAmount       1000 non-null   int64         \n",
      " 11  OrderCreated      1000 non-null   datetime64[ns]\n",
      " 12  MedicalResult     1000 non-null   object        \n",
      "dtypes: datetime64[ns](2), int64(5), object(6)\n",
      "memory usage: 101.7+ KB\n"
     ]
    },
    {
     "data": {
      "text/html": [
       "<div>\n",
       "<style scoped>\n",
       "    .dataframe tbody tr th:only-of-type {\n",
       "        vertical-align: middle;\n",
       "    }\n",
       "\n",
       "    .dataframe tbody tr th {\n",
       "        vertical-align: top;\n",
       "    }\n",
       "\n",
       "    .dataframe thead th {\n",
       "        text-align: right;\n",
       "    }\n",
       "</style>\n",
       "<table border=\"1\" class=\"dataframe\">\n",
       "  <thead>\n",
       "    <tr style=\"text-align: right;\">\n",
       "      <th></th>\n",
       "      <th>TrxNumber</th>\n",
       "      <th>TrxType</th>\n",
       "      <th>Branch</th>\n",
       "      <th>Package</th>\n",
       "      <th>PatientBirthDate</th>\n",
       "      <th>PatientGender</th>\n",
       "      <th>PromoCode</th>\n",
       "      <th>GrandTotal</th>\n",
       "      <th>TotalDiscount</th>\n",
       "      <th>AdminFee</th>\n",
       "      <th>TotalAmount</th>\n",
       "      <th>OrderCreated</th>\n",
       "      <th>MedicalResult</th>\n",
       "    </tr>\n",
       "  </thead>\n",
       "  <tbody>\n",
       "    <tr>\n",
       "      <th>0</th>\n",
       "      <td>1389414778136428544</td>\n",
       "      <td>on ClinicACov stand</td>\n",
       "      <td>ClinicACov Cikarang Selatan</td>\n",
       "      <td>Swab Antigen on ClinicACov stand (Result in 30...</td>\n",
       "      <td>1997-12-11</td>\n",
       "      <td>f</td>\n",
       "      <td>-</td>\n",
       "      <td>199000</td>\n",
       "      <td>0</td>\n",
       "      <td>3000</td>\n",
       "      <td>202000</td>\n",
       "      <td>2021-05-04 10:01:11</td>\n",
       "      <td>Negative</td>\n",
       "    </tr>\n",
       "    <tr>\n",
       "      <th>1</th>\n",
       "      <td>1389414778136428544</td>\n",
       "      <td>on ClinicACov stand</td>\n",
       "      <td>ClinicACov Cikarang Selatan</td>\n",
       "      <td>Swab Antigen on ClinicACov stand (Result in 30...</td>\n",
       "      <td>1997-12-11</td>\n",
       "      <td>f</td>\n",
       "      <td>-</td>\n",
       "      <td>199000</td>\n",
       "      <td>0</td>\n",
       "      <td>3000</td>\n",
       "      <td>202000</td>\n",
       "      <td>2021-05-04 10:01:11</td>\n",
       "      <td>Negative</td>\n",
       "    </tr>\n",
       "    <tr>\n",
       "      <th>2</th>\n",
       "      <td>1389442470126813184</td>\n",
       "      <td>on ClinicACov stand</td>\n",
       "      <td>ClinicACov Cikarang Selatan</td>\n",
       "      <td>Swab Antigen on ClinicACov stand (Result in 30...</td>\n",
       "      <td>1998-08-17</td>\n",
       "      <td>m</td>\n",
       "      <td>-</td>\n",
       "      <td>199000</td>\n",
       "      <td>0</td>\n",
       "      <td>3000</td>\n",
       "      <td>202000</td>\n",
       "      <td>2021-05-04 11:51:14</td>\n",
       "      <td>Negative</td>\n",
       "    </tr>\n",
       "    <tr>\n",
       "      <th>3</th>\n",
       "      <td>1389442470126813184</td>\n",
       "      <td>on ClinicACov stand</td>\n",
       "      <td>ClinicACov Cikarang Selatan</td>\n",
       "      <td>Swab Antigen on ClinicACov stand (Result in 30...</td>\n",
       "      <td>1998-08-17</td>\n",
       "      <td>m</td>\n",
       "      <td>-</td>\n",
       "      <td>199000</td>\n",
       "      <td>0</td>\n",
       "      <td>3000</td>\n",
       "      <td>202000</td>\n",
       "      <td>2021-05-04 11:51:14</td>\n",
       "      <td>Positive</td>\n",
       "    </tr>\n",
       "    <tr>\n",
       "      <th>4</th>\n",
       "      <td>1389589423187820544</td>\n",
       "      <td>on ClinicACov stand</td>\n",
       "      <td>ClinicACov Cikarang Selatan</td>\n",
       "      <td>Swab Antigen on ClinicACov stand (Result in 30...</td>\n",
       "      <td>1987-03-06</td>\n",
       "      <td>f</td>\n",
       "      <td>-</td>\n",
       "      <td>199000</td>\n",
       "      <td>0</td>\n",
       "      <td>2850</td>\n",
       "      <td>201850</td>\n",
       "      <td>2021-05-04 21:35:10</td>\n",
       "      <td>Negative</td>\n",
       "    </tr>\n",
       "  </tbody>\n",
       "</table>\n",
       "</div>"
      ],
      "text/plain": [
       "             TrxNumber              TrxType                       Branch  \\\n",
       "0  1389414778136428544  on ClinicACov stand  ClinicACov Cikarang Selatan   \n",
       "1  1389414778136428544  on ClinicACov stand  ClinicACov Cikarang Selatan   \n",
       "2  1389442470126813184  on ClinicACov stand  ClinicACov Cikarang Selatan   \n",
       "3  1389442470126813184  on ClinicACov stand  ClinicACov Cikarang Selatan   \n",
       "4  1389589423187820544  on ClinicACov stand  ClinicACov Cikarang Selatan   \n",
       "\n",
       "                                             Package PatientBirthDate  \\\n",
       "0  Swab Antigen on ClinicACov stand (Result in 30...       1997-12-11   \n",
       "1  Swab Antigen on ClinicACov stand (Result in 30...       1997-12-11   \n",
       "2  Swab Antigen on ClinicACov stand (Result in 30...       1998-08-17   \n",
       "3  Swab Antigen on ClinicACov stand (Result in 30...       1998-08-17   \n",
       "4  Swab Antigen on ClinicACov stand (Result in 30...       1987-03-06   \n",
       "\n",
       "  PatientGender PromoCode  GrandTotal  TotalDiscount  AdminFee  TotalAmount  \\\n",
       "0             f         -      199000              0      3000       202000   \n",
       "1             f         -      199000              0      3000       202000   \n",
       "2             m         -      199000              0      3000       202000   \n",
       "3             m         -      199000              0      3000       202000   \n",
       "4             f         -      199000              0      2850       201850   \n",
       "\n",
       "         OrderCreated MedicalResult  \n",
       "0 2021-05-04 10:01:11      Negative  \n",
       "1 2021-05-04 10:01:11      Negative  \n",
       "2 2021-05-04 11:51:14      Negative  \n",
       "3 2021-05-04 11:51:14      Positive  \n",
       "4 2021-05-04 21:35:10      Negative  "
      ]
     },
     "execution_count": 2,
     "metadata": {},
     "output_type": "execute_result"
    }
   ],
   "source": [
    "df_clinic = pd.read_excel('ClinicACov.xlsx')\n",
    "df_clinic.info()\n",
    "df_clinic.head()"
   ]
  },
  {
   "cell_type": "code",
   "execution_count": 3,
   "id": "33278393",
   "metadata": {},
   "outputs": [
    {
     "data": {
      "text/html": [
       "<div>\n",
       "<style scoped>\n",
       "    .dataframe tbody tr th:only-of-type {\n",
       "        vertical-align: middle;\n",
       "    }\n",
       "\n",
       "    .dataframe tbody tr th {\n",
       "        vertical-align: top;\n",
       "    }\n",
       "\n",
       "    .dataframe thead th {\n",
       "        text-align: right;\n",
       "    }\n",
       "</style>\n",
       "<table border=\"1\" class=\"dataframe\">\n",
       "  <thead>\n",
       "    <tr style=\"text-align: right;\">\n",
       "      <th></th>\n",
       "      <th>TrxNumber</th>\n",
       "      <th>GrandTotal</th>\n",
       "      <th>TotalDiscount</th>\n",
       "      <th>AdminFee</th>\n",
       "      <th>TotalAmount</th>\n",
       "    </tr>\n",
       "  </thead>\n",
       "  <tbody>\n",
       "    <tr>\n",
       "      <th>count</th>\n",
       "      <td>1.000000e+03</td>\n",
       "      <td>1000.00</td>\n",
       "      <td>1000.00</td>\n",
       "      <td>1000.00</td>\n",
       "      <td>1000.00</td>\n",
       "    </tr>\n",
       "    <tr>\n",
       "      <th>mean</th>\n",
       "      <td>1.400462e+18</td>\n",
       "      <td>766254.00</td>\n",
       "      <td>3718.65</td>\n",
       "      <td>3632.63</td>\n",
       "      <td>766167.98</td>\n",
       "    </tr>\n",
       "    <tr>\n",
       "      <th>std</th>\n",
       "      <td>5.940340e+15</td>\n",
       "      <td>726495.26</td>\n",
       "      <td>29026.43</td>\n",
       "      <td>4236.16</td>\n",
       "      <td>726398.39</td>\n",
       "    </tr>\n",
       "    <tr>\n",
       "      <th>min</th>\n",
       "      <td>1.388025e+18</td>\n",
       "      <td>199000.00</td>\n",
       "      <td>0.00</td>\n",
       "      <td>0.00</td>\n",
       "      <td>172000.00</td>\n",
       "    </tr>\n",
       "    <tr>\n",
       "      <th>25%</th>\n",
       "      <td>1.395276e+18</td>\n",
       "      <td>398000.00</td>\n",
       "      <td>0.00</td>\n",
       "      <td>2850.00</td>\n",
       "      <td>400850.00</td>\n",
       "    </tr>\n",
       "    <tr>\n",
       "      <th>50%</th>\n",
       "      <td>1.398494e+18</td>\n",
       "      <td>597000.00</td>\n",
       "      <td>0.00</td>\n",
       "      <td>2850.00</td>\n",
       "      <td>599850.00</td>\n",
       "    </tr>\n",
       "    <tr>\n",
       "      <th>75%</th>\n",
       "      <td>1.406808e+18</td>\n",
       "      <td>796000.00</td>\n",
       "      <td>0.00</td>\n",
       "      <td>2850.00</td>\n",
       "      <td>820477.00</td>\n",
       "    </tr>\n",
       "    <tr>\n",
       "      <th>max</th>\n",
       "      <td>1.406998e+18</td>\n",
       "      <td>3596000.00</td>\n",
       "      <td>300000.00</td>\n",
       "      <td>26250.00</td>\n",
       "      <td>3598850.00</td>\n",
       "    </tr>\n",
       "  </tbody>\n",
       "</table>\n",
       "</div>"
      ],
      "text/plain": [
       "          TrxNumber  GrandTotal  TotalDiscount  AdminFee  TotalAmount\n",
       "count  1.000000e+03     1000.00        1000.00   1000.00      1000.00\n",
       "mean   1.400462e+18   766254.00        3718.65   3632.63    766167.98\n",
       "std    5.940340e+15   726495.26       29026.43   4236.16    726398.39\n",
       "min    1.388025e+18   199000.00           0.00      0.00    172000.00\n",
       "25%    1.395276e+18   398000.00           0.00   2850.00    400850.00\n",
       "50%    1.398494e+18   597000.00           0.00   2850.00    599850.00\n",
       "75%    1.406808e+18   796000.00           0.00   2850.00    820477.00\n",
       "max    1.406998e+18  3596000.00      300000.00  26250.00   3598850.00"
      ]
     },
     "execution_count": 3,
     "metadata": {},
     "output_type": "execute_result"
    }
   ],
   "source": [
    "df_clinic.describe().round(2)"
   ]
  },
  {
   "cell_type": "code",
   "execution_count": 4,
   "id": "be09e106",
   "metadata": {},
   "outputs": [],
   "source": [
    "df_clinic['TrxMonth'] = df_clinic['OrderCreated'].dt.month\n",
    "df_clinic['TrxDay'] = df_clinic['OrderCreated'].dt.day\n",
    "df_clinic['TrxYear'] = df_clinic['OrderCreated'].dt.year\n",
    "df_clinic['PatientYear'] = df_clinic['PatientBirthDate'].dt.year"
   ]
  },
  {
   "cell_type": "code",
   "execution_count": 5,
   "id": "50eec115",
   "metadata": {},
   "outputs": [
    {
     "data": {
      "text/plain": [
       "0      24\n",
       "1      24\n",
       "2      23\n",
       "3      23\n",
       "4      34\n",
       "       ..\n",
       "995    35\n",
       "996    35\n",
       "997    21\n",
       "998    21\n",
       "999    21\n",
       "Name: PatientAge, Length: 1000, dtype: int64"
      ]
     },
     "execution_count": 5,
     "metadata": {},
     "output_type": "execute_result"
    }
   ],
   "source": [
    "df_clinic['PatientAge'] = df_clinic['TrxYear'] - df_clinic['PatientYear']\n",
    "df_clinic['PatientAge']"
   ]
  },
  {
   "cell_type": "code",
   "execution_count": 6,
   "id": "3e3a92c7",
   "metadata": {},
   "outputs": [
    {
     "data": {
      "text/html": [
       "<div>\n",
       "<style scoped>\n",
       "    .dataframe tbody tr th:only-of-type {\n",
       "        vertical-align: middle;\n",
       "    }\n",
       "\n",
       "    .dataframe tbody tr th {\n",
       "        vertical-align: top;\n",
       "    }\n",
       "\n",
       "    .dataframe thead th {\n",
       "        text-align: right;\n",
       "    }\n",
       "</style>\n",
       "<table border=\"1\" class=\"dataframe\">\n",
       "  <thead>\n",
       "    <tr style=\"text-align: right;\">\n",
       "      <th></th>\n",
       "      <th>TrxNumber</th>\n",
       "      <th>TrxType</th>\n",
       "      <th>Branch</th>\n",
       "      <th>Package</th>\n",
       "      <th>PatientBirthDate</th>\n",
       "      <th>PatientGender</th>\n",
       "      <th>PromoCode</th>\n",
       "      <th>GrandTotal</th>\n",
       "      <th>TotalDiscount</th>\n",
       "      <th>AdminFee</th>\n",
       "      <th>TotalAmount</th>\n",
       "      <th>OrderCreated</th>\n",
       "      <th>MedicalResult</th>\n",
       "      <th>TrxMonth</th>\n",
       "      <th>TrxDay</th>\n",
       "      <th>TrxYear</th>\n",
       "      <th>PatientYear</th>\n",
       "      <th>PatientAge</th>\n",
       "    </tr>\n",
       "  </thead>\n",
       "  <tbody>\n",
       "    <tr>\n",
       "      <th>0</th>\n",
       "      <td>1389414778136428544</td>\n",
       "      <td>on ClinicACov stand</td>\n",
       "      <td>ClinicACov Cikarang Selatan</td>\n",
       "      <td>Swab Antigen on ClinicACov stand (Result in 30...</td>\n",
       "      <td>1997-12-11</td>\n",
       "      <td>f</td>\n",
       "      <td>-</td>\n",
       "      <td>199000</td>\n",
       "      <td>0</td>\n",
       "      <td>3000</td>\n",
       "      <td>202000</td>\n",
       "      <td>2021-05-04 10:01:11</td>\n",
       "      <td>Negative</td>\n",
       "      <td>5</td>\n",
       "      <td>4</td>\n",
       "      <td>2021</td>\n",
       "      <td>1997</td>\n",
       "      <td>24</td>\n",
       "    </tr>\n",
       "    <tr>\n",
       "      <th>1</th>\n",
       "      <td>1389414778136428544</td>\n",
       "      <td>on ClinicACov stand</td>\n",
       "      <td>ClinicACov Cikarang Selatan</td>\n",
       "      <td>Swab Antigen on ClinicACov stand (Result in 30...</td>\n",
       "      <td>1997-12-11</td>\n",
       "      <td>f</td>\n",
       "      <td>-</td>\n",
       "      <td>199000</td>\n",
       "      <td>0</td>\n",
       "      <td>3000</td>\n",
       "      <td>202000</td>\n",
       "      <td>2021-05-04 10:01:11</td>\n",
       "      <td>Negative</td>\n",
       "      <td>5</td>\n",
       "      <td>4</td>\n",
       "      <td>2021</td>\n",
       "      <td>1997</td>\n",
       "      <td>24</td>\n",
       "    </tr>\n",
       "    <tr>\n",
       "      <th>2</th>\n",
       "      <td>1389442470126813184</td>\n",
       "      <td>on ClinicACov stand</td>\n",
       "      <td>ClinicACov Cikarang Selatan</td>\n",
       "      <td>Swab Antigen on ClinicACov stand (Result in 30...</td>\n",
       "      <td>1998-08-17</td>\n",
       "      <td>m</td>\n",
       "      <td>-</td>\n",
       "      <td>199000</td>\n",
       "      <td>0</td>\n",
       "      <td>3000</td>\n",
       "      <td>202000</td>\n",
       "      <td>2021-05-04 11:51:14</td>\n",
       "      <td>Negative</td>\n",
       "      <td>5</td>\n",
       "      <td>4</td>\n",
       "      <td>2021</td>\n",
       "      <td>1998</td>\n",
       "      <td>23</td>\n",
       "    </tr>\n",
       "    <tr>\n",
       "      <th>3</th>\n",
       "      <td>1389442470126813184</td>\n",
       "      <td>on ClinicACov stand</td>\n",
       "      <td>ClinicACov Cikarang Selatan</td>\n",
       "      <td>Swab Antigen on ClinicACov stand (Result in 30...</td>\n",
       "      <td>1998-08-17</td>\n",
       "      <td>m</td>\n",
       "      <td>-</td>\n",
       "      <td>199000</td>\n",
       "      <td>0</td>\n",
       "      <td>3000</td>\n",
       "      <td>202000</td>\n",
       "      <td>2021-05-04 11:51:14</td>\n",
       "      <td>Positive</td>\n",
       "      <td>5</td>\n",
       "      <td>4</td>\n",
       "      <td>2021</td>\n",
       "      <td>1998</td>\n",
       "      <td>23</td>\n",
       "    </tr>\n",
       "    <tr>\n",
       "      <th>4</th>\n",
       "      <td>1389589423187820544</td>\n",
       "      <td>on ClinicACov stand</td>\n",
       "      <td>ClinicACov Cikarang Selatan</td>\n",
       "      <td>Swab Antigen on ClinicACov stand (Result in 30...</td>\n",
       "      <td>1987-03-06</td>\n",
       "      <td>f</td>\n",
       "      <td>-</td>\n",
       "      <td>199000</td>\n",
       "      <td>0</td>\n",
       "      <td>2850</td>\n",
       "      <td>201850</td>\n",
       "      <td>2021-05-04 21:35:10</td>\n",
       "      <td>Negative</td>\n",
       "      <td>5</td>\n",
       "      <td>4</td>\n",
       "      <td>2021</td>\n",
       "      <td>1987</td>\n",
       "      <td>34</td>\n",
       "    </tr>\n",
       "  </tbody>\n",
       "</table>\n",
       "</div>"
      ],
      "text/plain": [
       "             TrxNumber              TrxType                       Branch  \\\n",
       "0  1389414778136428544  on ClinicACov stand  ClinicACov Cikarang Selatan   \n",
       "1  1389414778136428544  on ClinicACov stand  ClinicACov Cikarang Selatan   \n",
       "2  1389442470126813184  on ClinicACov stand  ClinicACov Cikarang Selatan   \n",
       "3  1389442470126813184  on ClinicACov stand  ClinicACov Cikarang Selatan   \n",
       "4  1389589423187820544  on ClinicACov stand  ClinicACov Cikarang Selatan   \n",
       "\n",
       "                                             Package PatientBirthDate  \\\n",
       "0  Swab Antigen on ClinicACov stand (Result in 30...       1997-12-11   \n",
       "1  Swab Antigen on ClinicACov stand (Result in 30...       1997-12-11   \n",
       "2  Swab Antigen on ClinicACov stand (Result in 30...       1998-08-17   \n",
       "3  Swab Antigen on ClinicACov stand (Result in 30...       1998-08-17   \n",
       "4  Swab Antigen on ClinicACov stand (Result in 30...       1987-03-06   \n",
       "\n",
       "  PatientGender PromoCode  GrandTotal  TotalDiscount  AdminFee  TotalAmount  \\\n",
       "0             f         -      199000              0      3000       202000   \n",
       "1             f         -      199000              0      3000       202000   \n",
       "2             m         -      199000              0      3000       202000   \n",
       "3             m         -      199000              0      3000       202000   \n",
       "4             f         -      199000              0      2850       201850   \n",
       "\n",
       "         OrderCreated MedicalResult  TrxMonth  TrxDay  TrxYear  PatientYear  \\\n",
       "0 2021-05-04 10:01:11      Negative         5       4     2021         1997   \n",
       "1 2021-05-04 10:01:11      Negative         5       4     2021         1997   \n",
       "2 2021-05-04 11:51:14      Negative         5       4     2021         1998   \n",
       "3 2021-05-04 11:51:14      Positive         5       4     2021         1998   \n",
       "4 2021-05-04 21:35:10      Negative         5       4     2021         1987   \n",
       "\n",
       "   PatientAge  \n",
       "0          24  \n",
       "1          24  \n",
       "2          23  \n",
       "3          23  \n",
       "4          34  "
      ]
     },
     "execution_count": 6,
     "metadata": {},
     "output_type": "execute_result"
    }
   ],
   "source": [
    "df_clinic.head()"
   ]
  },
  {
   "cell_type": "code",
   "execution_count": 7,
   "id": "bb33dc4c",
   "metadata": {},
   "outputs": [
    {
     "data": {
      "text/plain": [
       "Timestamp('2021-06-18 10:28:21')"
      ]
     },
     "execution_count": 7,
     "metadata": {},
     "output_type": "execute_result"
    }
   ],
   "source": [
    "df_clinic['OrderCreated'][999]"
   ]
  },
  {
   "cell_type": "code",
   "execution_count": 8,
   "id": "d02d060f",
   "metadata": {},
   "outputs": [
    {
     "data": {
      "text/plain": [
       "Swab Antigen on ClinicACov stand (Result in 30Minutes)    852\n",
       "Swab PCR on ClinicACov stand (Result in 1x24Hours)         88\n",
       "Swab Antigen Client Home (Result in 30Minutes)             38\n",
       "Swab PCR Client Home (Result in D+1)                       22\n",
       "Name: Package, dtype: int64"
      ]
     },
     "execution_count": 8,
     "metadata": {},
     "output_type": "execute_result"
    }
   ],
   "source": [
    "df_clinic.Package.value_counts()"
   ]
  },
  {
   "cell_type": "code",
   "execution_count": 9,
   "id": "6277010b",
   "metadata": {},
   "outputs": [
    {
     "data": {
      "text/plain": [
       "-                         967\n",
       "CLINICACOV15               24\n",
       "ANTIGENCLINICACOVHOME3      9\n",
       "Name: PromoCode, dtype: int64"
      ]
     },
     "execution_count": 9,
     "metadata": {},
     "output_type": "execute_result"
    }
   ],
   "source": [
    "df_clinic.PromoCode.value_counts()"
   ]
  },
  {
   "cell_type": "code",
   "execution_count": 10,
   "id": "c735b960",
   "metadata": {},
   "outputs": [
    {
     "data": {
      "text/plain": [
       "m    513\n",
       "f    487\n",
       "Name: PatientGender, dtype: int64"
      ]
     },
     "execution_count": 10,
     "metadata": {},
     "output_type": "execute_result"
    }
   ],
   "source": [
    "df_clinic.PatientGender.value_counts()"
   ]
  },
  {
   "cell_type": "code",
   "execution_count": 11,
   "id": "2d58b33d",
   "metadata": {},
   "outputs": [
    {
     "data": {
      "text/plain": [
       "ClinicACov Cikarang Pusat      707\n",
       "ClinicACov Cikarang Selatan    111\n",
       "ClinicACov Bekasi Timur         93\n",
       "ClinicACov Margonda             31\n",
       "ClinicACov Cileungsi            30\n",
       "ClinicACov Bekasi Selatan       14\n",
       "ClinicACov Cibubur              10\n",
       "ClinicACov Cikarang Utara        4\n",
       "Name: Branch, dtype: int64"
      ]
     },
     "execution_count": 11,
     "metadata": {},
     "output_type": "execute_result"
    }
   ],
   "source": [
    "df_clinic.Branch.value_counts()"
   ]
  },
  {
   "cell_type": "code",
   "execution_count": 12,
   "id": "1c349045",
   "metadata": {},
   "outputs": [
    {
     "data": {
      "text/html": [
       "<div>\n",
       "<style scoped>\n",
       "    .dataframe tbody tr th:only-of-type {\n",
       "        vertical-align: middle;\n",
       "    }\n",
       "\n",
       "    .dataframe tbody tr th {\n",
       "        vertical-align: top;\n",
       "    }\n",
       "\n",
       "    .dataframe thead tr th {\n",
       "        text-align: left;\n",
       "    }\n",
       "\n",
       "    .dataframe thead tr:last-of-type th {\n",
       "        text-align: right;\n",
       "    }\n",
       "</style>\n",
       "<table border=\"1\" class=\"dataframe\">\n",
       "  <thead>\n",
       "    <tr>\n",
       "      <th></th>\n",
       "      <th></th>\n",
       "      <th>min</th>\n",
       "      <th>mean</th>\n",
       "      <th>max</th>\n",
       "      <th>count</th>\n",
       "    </tr>\n",
       "    <tr>\n",
       "      <th></th>\n",
       "      <th></th>\n",
       "      <th>AdminFee</th>\n",
       "      <th>AdminFee</th>\n",
       "      <th>AdminFee</th>\n",
       "      <th>AdminFee</th>\n",
       "    </tr>\n",
       "    <tr>\n",
       "      <th>Package</th>\n",
       "      <th>Branch</th>\n",
       "      <th></th>\n",
       "      <th></th>\n",
       "      <th></th>\n",
       "      <th></th>\n",
       "    </tr>\n",
       "  </thead>\n",
       "  <tbody>\n",
       "    <tr>\n",
       "      <th rowspan=\"3\" valign=\"top\">Swab Antigen Client Home (Result in 30Minutes)</th>\n",
       "      <th>ClinicACov Bekasi Selatan</th>\n",
       "      <td>2850</td>\n",
       "      <td>2978.57</td>\n",
       "      <td>3000</td>\n",
       "      <td>7</td>\n",
       "    </tr>\n",
       "    <tr>\n",
       "      <th>ClinicACov Cibubur</th>\n",
       "      <td>2850</td>\n",
       "      <td>2850.00</td>\n",
       "      <td>2850</td>\n",
       "      <td>10</td>\n",
       "    </tr>\n",
       "    <tr>\n",
       "      <th>ClinicACov Margonda</th>\n",
       "      <td>2850</td>\n",
       "      <td>12878.57</td>\n",
       "      <td>26250</td>\n",
       "      <td>21</td>\n",
       "    </tr>\n",
       "    <tr>\n",
       "      <th rowspan=\"4\" valign=\"top\">Swab Antigen on ClinicACov stand (Result in 30Minutes)</th>\n",
       "      <th>ClinicACov Bekasi Timur</th>\n",
       "      <td>0</td>\n",
       "      <td>2813.41</td>\n",
       "      <td>3000</td>\n",
       "      <td>82</td>\n",
       "    </tr>\n",
       "    <tr>\n",
       "      <th>ClinicACov Cikarang Pusat</th>\n",
       "      <td>0</td>\n",
       "      <td>3749.42</td>\n",
       "      <td>24477</td>\n",
       "      <td>631</td>\n",
       "    </tr>\n",
       "    <tr>\n",
       "      <th>ClinicACov Cikarang Selatan</th>\n",
       "      <td>2850</td>\n",
       "      <td>2874.09</td>\n",
       "      <td>3850</td>\n",
       "      <td>110</td>\n",
       "    </tr>\n",
       "    <tr>\n",
       "      <th>ClinicACov Cileungsi</th>\n",
       "      <td>2850</td>\n",
       "      <td>2850.00</td>\n",
       "      <td>2850</td>\n",
       "      <td>29</td>\n",
       "    </tr>\n",
       "    <tr>\n",
       "      <th rowspan=\"4\" valign=\"top\">Swab PCR Client Home (Result in D+1)</th>\n",
       "      <th>ClinicACov Bekasi Selatan</th>\n",
       "      <td>3000</td>\n",
       "      <td>3000.00</td>\n",
       "      <td>3000</td>\n",
       "      <td>7</td>\n",
       "    </tr>\n",
       "    <tr>\n",
       "      <th>ClinicACov Cikarang Utara</th>\n",
       "      <td>2850</td>\n",
       "      <td>2850.00</td>\n",
       "      <td>2850</td>\n",
       "      <td>4</td>\n",
       "    </tr>\n",
       "    <tr>\n",
       "      <th>ClinicACov Cileungsi</th>\n",
       "      <td>2850</td>\n",
       "      <td>2850.00</td>\n",
       "      <td>2850</td>\n",
       "      <td>1</td>\n",
       "    </tr>\n",
       "    <tr>\n",
       "      <th>ClinicACov Margonda</th>\n",
       "      <td>2850</td>\n",
       "      <td>2850.00</td>\n",
       "      <td>2850</td>\n",
       "      <td>10</td>\n",
       "    </tr>\n",
       "    <tr>\n",
       "      <th rowspan=\"3\" valign=\"top\">Swab PCR on ClinicACov stand (Result in 1x24Hours)</th>\n",
       "      <th>ClinicACov Bekasi Timur</th>\n",
       "      <td>2850</td>\n",
       "      <td>2904.55</td>\n",
       "      <td>3000</td>\n",
       "      <td>11</td>\n",
       "    </tr>\n",
       "    <tr>\n",
       "      <th>ClinicACov Cikarang Pusat</th>\n",
       "      <td>2850</td>\n",
       "      <td>2880.26</td>\n",
       "      <td>3850</td>\n",
       "      <td>76</td>\n",
       "    </tr>\n",
       "    <tr>\n",
       "      <th>ClinicACov Cikarang Selatan</th>\n",
       "      <td>2850</td>\n",
       "      <td>2850.00</td>\n",
       "      <td>2850</td>\n",
       "      <td>1</td>\n",
       "    </tr>\n",
       "  </tbody>\n",
       "</table>\n",
       "</div>"
      ],
      "text/plain": [
       "                                                                                    min  \\\n",
       "                                                                               AdminFee   \n",
       "Package                                            Branch                                 \n",
       "Swab Antigen Client Home (Result in 30Minutes)     ClinicACov Bekasi Selatan       2850   \n",
       "                                                   ClinicACov Cibubur              2850   \n",
       "                                                   ClinicACov Margonda             2850   \n",
       "Swab Antigen on ClinicACov stand (Result in 30M... ClinicACov Bekasi Timur            0   \n",
       "                                                   ClinicACov Cikarang Pusat          0   \n",
       "                                                   ClinicACov Cikarang Selatan     2850   \n",
       "                                                   ClinicACov Cileungsi            2850   \n",
       "Swab PCR Client Home (Result in D+1)               ClinicACov Bekasi Selatan       3000   \n",
       "                                                   ClinicACov Cikarang Utara       2850   \n",
       "                                                   ClinicACov Cileungsi            2850   \n",
       "                                                   ClinicACov Margonda             2850   \n",
       "Swab PCR on ClinicACov stand (Result in 1x24Hours) ClinicACov Bekasi Timur         2850   \n",
       "                                                   ClinicACov Cikarang Pusat       2850   \n",
       "                                                   ClinicACov Cikarang Selatan     2850   \n",
       "\n",
       "                                                                                    mean  \\\n",
       "                                                                                AdminFee   \n",
       "Package                                            Branch                                  \n",
       "Swab Antigen Client Home (Result in 30Minutes)     ClinicACov Bekasi Selatan     2978.57   \n",
       "                                                   ClinicACov Cibubur            2850.00   \n",
       "                                                   ClinicACov Margonda          12878.57   \n",
       "Swab Antigen on ClinicACov stand (Result in 30M... ClinicACov Bekasi Timur       2813.41   \n",
       "                                                   ClinicACov Cikarang Pusat     3749.42   \n",
       "                                                   ClinicACov Cikarang Selatan   2874.09   \n",
       "                                                   ClinicACov Cileungsi          2850.00   \n",
       "Swab PCR Client Home (Result in D+1)               ClinicACov Bekasi Selatan     3000.00   \n",
       "                                                   ClinicACov Cikarang Utara     2850.00   \n",
       "                                                   ClinicACov Cileungsi          2850.00   \n",
       "                                                   ClinicACov Margonda           2850.00   \n",
       "Swab PCR on ClinicACov stand (Result in 1x24Hours) ClinicACov Bekasi Timur       2904.55   \n",
       "                                                   ClinicACov Cikarang Pusat     2880.26   \n",
       "                                                   ClinicACov Cikarang Selatan   2850.00   \n",
       "\n",
       "                                                                                    max  \\\n",
       "                                                                               AdminFee   \n",
       "Package                                            Branch                                 \n",
       "Swab Antigen Client Home (Result in 30Minutes)     ClinicACov Bekasi Selatan       3000   \n",
       "                                                   ClinicACov Cibubur              2850   \n",
       "                                                   ClinicACov Margonda            26250   \n",
       "Swab Antigen on ClinicACov stand (Result in 30M... ClinicACov Bekasi Timur         3000   \n",
       "                                                   ClinicACov Cikarang Pusat      24477   \n",
       "                                                   ClinicACov Cikarang Selatan     3850   \n",
       "                                                   ClinicACov Cileungsi            2850   \n",
       "Swab PCR Client Home (Result in D+1)               ClinicACov Bekasi Selatan       3000   \n",
       "                                                   ClinicACov Cikarang Utara       2850   \n",
       "                                                   ClinicACov Cileungsi            2850   \n",
       "                                                   ClinicACov Margonda             2850   \n",
       "Swab PCR on ClinicACov stand (Result in 1x24Hours) ClinicACov Bekasi Timur         3000   \n",
       "                                                   ClinicACov Cikarang Pusat       3850   \n",
       "                                                   ClinicACov Cikarang Selatan     2850   \n",
       "\n",
       "                                                                                  count  \n",
       "                                                                               AdminFee  \n",
       "Package                                            Branch                                \n",
       "Swab Antigen Client Home (Result in 30Minutes)     ClinicACov Bekasi Selatan          7  \n",
       "                                                   ClinicACov Cibubur                10  \n",
       "                                                   ClinicACov Margonda               21  \n",
       "Swab Antigen on ClinicACov stand (Result in 30M... ClinicACov Bekasi Timur           82  \n",
       "                                                   ClinicACov Cikarang Pusat        631  \n",
       "                                                   ClinicACov Cikarang Selatan      110  \n",
       "                                                   ClinicACov Cileungsi              29  \n",
       "Swab PCR Client Home (Result in D+1)               ClinicACov Bekasi Selatan          7  \n",
       "                                                   ClinicACov Cikarang Utara          4  \n",
       "                                                   ClinicACov Cileungsi               1  \n",
       "                                                   ClinicACov Margonda               10  \n",
       "Swab PCR on ClinicACov stand (Result in 1x24Hours) ClinicACov Bekasi Timur           11  \n",
       "                                                   ClinicACov Cikarang Pusat         76  \n",
       "                                                   ClinicACov Cikarang Selatan        1  "
      ]
     },
     "execution_count": 12,
     "metadata": {},
     "output_type": "execute_result"
    }
   ],
   "source": [
    "pd.pivot_table(data = df_clinic, \n",
    "               values = 'AdminFee', \n",
    "               index = ['Package','Branch'], \n",
    "               aggfunc = ['min','mean','max','count']).round(2)"
   ]
  },
  {
   "cell_type": "code",
   "execution_count": 13,
   "id": "98d4bd84",
   "metadata": {},
   "outputs": [
    {
     "data": {
      "text/html": [
       "<div>\n",
       "<style scoped>\n",
       "    .dataframe tbody tr th:only-of-type {\n",
       "        vertical-align: middle;\n",
       "    }\n",
       "\n",
       "    .dataframe tbody tr th {\n",
       "        vertical-align: top;\n",
       "    }\n",
       "\n",
       "    .dataframe thead tr th {\n",
       "        text-align: left;\n",
       "    }\n",
       "\n",
       "    .dataframe thead tr:last-of-type th {\n",
       "        text-align: right;\n",
       "    }\n",
       "</style>\n",
       "<table border=\"1\" class=\"dataframe\">\n",
       "  <thead>\n",
       "    <tr>\n",
       "      <th></th>\n",
       "      <th></th>\n",
       "      <th>min</th>\n",
       "      <th>mean</th>\n",
       "      <th>max</th>\n",
       "      <th>count</th>\n",
       "    </tr>\n",
       "    <tr>\n",
       "      <th></th>\n",
       "      <th></th>\n",
       "      <th>GrandTotal</th>\n",
       "      <th>GrandTotal</th>\n",
       "      <th>GrandTotal</th>\n",
       "      <th>GrandTotal</th>\n",
       "    </tr>\n",
       "    <tr>\n",
       "      <th>Package</th>\n",
       "      <th>Branch</th>\n",
       "      <th></th>\n",
       "      <th></th>\n",
       "      <th></th>\n",
       "      <th></th>\n",
       "    </tr>\n",
       "  </thead>\n",
       "  <tbody>\n",
       "    <tr>\n",
       "      <th rowspan=\"3\" valign=\"top\">Swab Antigen Client Home (Result in 30Minutes)</th>\n",
       "      <th>ClinicACov Bekasi Selatan</th>\n",
       "      <td>350000</td>\n",
       "      <td>1635714.29</td>\n",
       "      <td>1850000</td>\n",
       "      <td>7</td>\n",
       "    </tr>\n",
       "    <tr>\n",
       "      <th>ClinicACov Cibubur</th>\n",
       "      <td>350000</td>\n",
       "      <td>980000.00</td>\n",
       "      <td>1050000</td>\n",
       "      <td>10</td>\n",
       "    </tr>\n",
       "    <tr>\n",
       "      <th>ClinicACov Margonda</th>\n",
       "      <td>350000</td>\n",
       "      <td>1059523.81</td>\n",
       "      <td>1500000</td>\n",
       "      <td>21</td>\n",
       "    </tr>\n",
       "    <tr>\n",
       "      <th rowspan=\"4\" valign=\"top\">Swab Antigen on ClinicACov stand (Result in 30Minutes)</th>\n",
       "      <th>ClinicACov Bekasi Timur</th>\n",
       "      <td>199000</td>\n",
       "      <td>315487.80</td>\n",
       "      <td>597000</td>\n",
       "      <td>82</td>\n",
       "    </tr>\n",
       "    <tr>\n",
       "      <th>ClinicACov Cikarang Pusat</th>\n",
       "      <td>199000</td>\n",
       "      <td>620022.19</td>\n",
       "      <td>1194000</td>\n",
       "      <td>631</td>\n",
       "    </tr>\n",
       "    <tr>\n",
       "      <th>ClinicACov Cikarang Selatan</th>\n",
       "      <td>199000</td>\n",
       "      <td>318409.09</td>\n",
       "      <td>597000</td>\n",
       "      <td>110</td>\n",
       "    </tr>\n",
       "    <tr>\n",
       "      <th>ClinicACov Cileungsi</th>\n",
       "      <td>199000</td>\n",
       "      <td>226448.28</td>\n",
       "      <td>398000</td>\n",
       "      <td>29</td>\n",
       "    </tr>\n",
       "    <tr>\n",
       "      <th rowspan=\"4\" valign=\"top\">Swab PCR Client Home (Result in D+1)</th>\n",
       "      <th>ClinicACov Bekasi Selatan</th>\n",
       "      <td>1850000</td>\n",
       "      <td>2107142.86</td>\n",
       "      <td>2300000</td>\n",
       "      <td>7</td>\n",
       "    </tr>\n",
       "    <tr>\n",
       "      <th>ClinicACov Cikarang Utara</th>\n",
       "      <td>2300000</td>\n",
       "      <td>2300000.00</td>\n",
       "      <td>2300000</td>\n",
       "      <td>4</td>\n",
       "    </tr>\n",
       "    <tr>\n",
       "      <th>ClinicACov Cileungsi</th>\n",
       "      <td>1150000</td>\n",
       "      <td>1150000.00</td>\n",
       "      <td>1150000</td>\n",
       "      <td>1</td>\n",
       "    </tr>\n",
       "    <tr>\n",
       "      <th>ClinicACov Margonda</th>\n",
       "      <td>1500000</td>\n",
       "      <td>2140000.00</td>\n",
       "      <td>2300000</td>\n",
       "      <td>10</td>\n",
       "    </tr>\n",
       "    <tr>\n",
       "      <th rowspan=\"3\" valign=\"top\">Swab PCR on ClinicACov stand (Result in 1x24Hours)</th>\n",
       "      <th>ClinicACov Bekasi Timur</th>\n",
       "      <td>899000</td>\n",
       "      <td>1225909.09</td>\n",
       "      <td>1798000</td>\n",
       "      <td>11</td>\n",
       "    </tr>\n",
       "    <tr>\n",
       "      <th>ClinicACov Cikarang Pusat</th>\n",
       "      <td>899000</td>\n",
       "      <td>2673342.11</td>\n",
       "      <td>3596000</td>\n",
       "      <td>76</td>\n",
       "    </tr>\n",
       "    <tr>\n",
       "      <th>ClinicACov Cikarang Selatan</th>\n",
       "      <td>899000</td>\n",
       "      <td>899000.00</td>\n",
       "      <td>899000</td>\n",
       "      <td>1</td>\n",
       "    </tr>\n",
       "  </tbody>\n",
       "</table>\n",
       "</div>"
      ],
      "text/plain": [
       "                                                                                      min  \\\n",
       "                                                                               GrandTotal   \n",
       "Package                                            Branch                                   \n",
       "Swab Antigen Client Home (Result in 30Minutes)     ClinicACov Bekasi Selatan       350000   \n",
       "                                                   ClinicACov Cibubur              350000   \n",
       "                                                   ClinicACov Margonda             350000   \n",
       "Swab Antigen on ClinicACov stand (Result in 30M... ClinicACov Bekasi Timur         199000   \n",
       "                                                   ClinicACov Cikarang Pusat       199000   \n",
       "                                                   ClinicACov Cikarang Selatan     199000   \n",
       "                                                   ClinicACov Cileungsi            199000   \n",
       "Swab PCR Client Home (Result in D+1)               ClinicACov Bekasi Selatan      1850000   \n",
       "                                                   ClinicACov Cikarang Utara      2300000   \n",
       "                                                   ClinicACov Cileungsi           1150000   \n",
       "                                                   ClinicACov Margonda            1500000   \n",
       "Swab PCR on ClinicACov stand (Result in 1x24Hours) ClinicACov Bekasi Timur         899000   \n",
       "                                                   ClinicACov Cikarang Pusat       899000   \n",
       "                                                   ClinicACov Cikarang Selatan     899000   \n",
       "\n",
       "                                                                                      mean  \\\n",
       "                                                                                GrandTotal   \n",
       "Package                                            Branch                                    \n",
       "Swab Antigen Client Home (Result in 30Minutes)     ClinicACov Bekasi Selatan    1635714.29   \n",
       "                                                   ClinicACov Cibubur            980000.00   \n",
       "                                                   ClinicACov Margonda          1059523.81   \n",
       "Swab Antigen on ClinicACov stand (Result in 30M... ClinicACov Bekasi Timur       315487.80   \n",
       "                                                   ClinicACov Cikarang Pusat     620022.19   \n",
       "                                                   ClinicACov Cikarang Selatan   318409.09   \n",
       "                                                   ClinicACov Cileungsi          226448.28   \n",
       "Swab PCR Client Home (Result in D+1)               ClinicACov Bekasi Selatan    2107142.86   \n",
       "                                                   ClinicACov Cikarang Utara    2300000.00   \n",
       "                                                   ClinicACov Cileungsi         1150000.00   \n",
       "                                                   ClinicACov Margonda          2140000.00   \n",
       "Swab PCR on ClinicACov stand (Result in 1x24Hours) ClinicACov Bekasi Timur      1225909.09   \n",
       "                                                   ClinicACov Cikarang Pusat    2673342.11   \n",
       "                                                   ClinicACov Cikarang Selatan   899000.00   \n",
       "\n",
       "                                                                                      max  \\\n",
       "                                                                               GrandTotal   \n",
       "Package                                            Branch                                   \n",
       "Swab Antigen Client Home (Result in 30Minutes)     ClinicACov Bekasi Selatan      1850000   \n",
       "                                                   ClinicACov Cibubur             1050000   \n",
       "                                                   ClinicACov Margonda            1500000   \n",
       "Swab Antigen on ClinicACov stand (Result in 30M... ClinicACov Bekasi Timur         597000   \n",
       "                                                   ClinicACov Cikarang Pusat      1194000   \n",
       "                                                   ClinicACov Cikarang Selatan     597000   \n",
       "                                                   ClinicACov Cileungsi            398000   \n",
       "Swab PCR Client Home (Result in D+1)               ClinicACov Bekasi Selatan      2300000   \n",
       "                                                   ClinicACov Cikarang Utara      2300000   \n",
       "                                                   ClinicACov Cileungsi           1150000   \n",
       "                                                   ClinicACov Margonda            2300000   \n",
       "Swab PCR on ClinicACov stand (Result in 1x24Hours) ClinicACov Bekasi Timur        1798000   \n",
       "                                                   ClinicACov Cikarang Pusat      3596000   \n",
       "                                                   ClinicACov Cikarang Selatan     899000   \n",
       "\n",
       "                                                                                    count  \n",
       "                                                                               GrandTotal  \n",
       "Package                                            Branch                                  \n",
       "Swab Antigen Client Home (Result in 30Minutes)     ClinicACov Bekasi Selatan            7  \n",
       "                                                   ClinicACov Cibubur                  10  \n",
       "                                                   ClinicACov Margonda                 21  \n",
       "Swab Antigen on ClinicACov stand (Result in 30M... ClinicACov Bekasi Timur             82  \n",
       "                                                   ClinicACov Cikarang Pusat          631  \n",
       "                                                   ClinicACov Cikarang Selatan        110  \n",
       "                                                   ClinicACov Cileungsi                29  \n",
       "Swab PCR Client Home (Result in D+1)               ClinicACov Bekasi Selatan            7  \n",
       "                                                   ClinicACov Cikarang Utara            4  \n",
       "                                                   ClinicACov Cileungsi                 1  \n",
       "                                                   ClinicACov Margonda                 10  \n",
       "Swab PCR on ClinicACov stand (Result in 1x24Hours) ClinicACov Bekasi Timur             11  \n",
       "                                                   ClinicACov Cikarang Pusat           76  \n",
       "                                                   ClinicACov Cikarang Selatan          1  "
      ]
     },
     "execution_count": 13,
     "metadata": {},
     "output_type": "execute_result"
    }
   ],
   "source": [
    "pd.pivot_table(data = df_clinic, \n",
    "               values = 'GrandTotal', \n",
    "               index = ['Package','Branch'], \n",
    "               aggfunc = ['min','mean','max','count']).round(2)"
   ]
  },
  {
   "cell_type": "code",
   "execution_count": 88,
   "id": "03c22372",
   "metadata": {},
   "outputs": [
    {
     "data": {
      "text/plain": [
       "array([ 199000,  796000,  398000,  899000, 1850000,  597000, 2697000,\n",
       "       1798000, 1050000, 1500000, 2300000, 3596000,  995000, 1150000,\n",
       "        350000,  200000, 1194000], dtype=int64)"
      ]
     },
     "execution_count": 88,
     "metadata": {},
     "output_type": "execute_result"
    }
   ],
   "source": [
    "df_clinic['GrandTotal'].unique()"
   ]
  },
  {
   "cell_type": "code",
   "execution_count": 14,
   "id": "948e27c1",
   "metadata": {},
   "outputs": [
    {
     "data": {
      "text/html": [
       "<div>\n",
       "<style scoped>\n",
       "    .dataframe tbody tr th:only-of-type {\n",
       "        vertical-align: middle;\n",
       "    }\n",
       "\n",
       "    .dataframe tbody tr th {\n",
       "        vertical-align: top;\n",
       "    }\n",
       "\n",
       "    .dataframe thead tr th {\n",
       "        text-align: left;\n",
       "    }\n",
       "\n",
       "    .dataframe thead tr:last-of-type th {\n",
       "        text-align: right;\n",
       "    }\n",
       "</style>\n",
       "<table border=\"1\" class=\"dataframe\">\n",
       "  <thead>\n",
       "    <tr>\n",
       "      <th></th>\n",
       "      <th></th>\n",
       "      <th>min</th>\n",
       "      <th>mean</th>\n",
       "      <th>max</th>\n",
       "      <th>count</th>\n",
       "    </tr>\n",
       "    <tr>\n",
       "      <th></th>\n",
       "      <th></th>\n",
       "      <th>TotalAmount</th>\n",
       "      <th>TotalAmount</th>\n",
       "      <th>TotalAmount</th>\n",
       "      <th>TotalAmount</th>\n",
       "    </tr>\n",
       "    <tr>\n",
       "      <th>Package</th>\n",
       "      <th>Branch</th>\n",
       "      <th></th>\n",
       "      <th></th>\n",
       "      <th></th>\n",
       "      <th></th>\n",
       "    </tr>\n",
       "  </thead>\n",
       "  <tbody>\n",
       "    <tr>\n",
       "      <th rowspan=\"3\" valign=\"top\">Swab Antigen Client Home (Result in 30Minutes)</th>\n",
       "      <th>ClinicACov Bekasi Selatan</th>\n",
       "      <td>352850</td>\n",
       "      <td>1638692.86</td>\n",
       "      <td>1853000</td>\n",
       "      <td>7</td>\n",
       "    </tr>\n",
       "    <tr>\n",
       "      <th>ClinicACov Cibubur</th>\n",
       "      <td>352850</td>\n",
       "      <td>982850.00</td>\n",
       "      <td>1052850</td>\n",
       "      <td>10</td>\n",
       "    </tr>\n",
       "    <tr>\n",
       "      <th>ClinicACov Margonda</th>\n",
       "      <td>352850</td>\n",
       "      <td>943830.95</td>\n",
       "      <td>1502850</td>\n",
       "      <td>21</td>\n",
       "    </tr>\n",
       "    <tr>\n",
       "      <th rowspan=\"4\" valign=\"top\">Swab Antigen on ClinicACov stand (Result in 30Minutes)</th>\n",
       "      <th>ClinicACov Bekasi Timur</th>\n",
       "      <td>172000</td>\n",
       "      <td>317209.15</td>\n",
       "      <td>599850</td>\n",
       "      <td>82</td>\n",
       "    </tr>\n",
       "    <tr>\n",
       "      <th>ClinicACov Cikarang Pusat</th>\n",
       "      <td>172000</td>\n",
       "      <td>622963.84</td>\n",
       "      <td>1196850</td>\n",
       "      <td>631</td>\n",
       "    </tr>\n",
       "    <tr>\n",
       "      <th>ClinicACov Cikarang Selatan</th>\n",
       "      <td>172000</td>\n",
       "      <td>320469.09</td>\n",
       "      <td>599850</td>\n",
       "      <td>110</td>\n",
       "    </tr>\n",
       "    <tr>\n",
       "      <th>ClinicACov Cileungsi</th>\n",
       "      <td>172000</td>\n",
       "      <td>228268.97</td>\n",
       "      <td>400850</td>\n",
       "      <td>29</td>\n",
       "    </tr>\n",
       "    <tr>\n",
       "      <th rowspan=\"4\" valign=\"top\">Swab PCR Client Home (Result in D+1)</th>\n",
       "      <th>ClinicACov Bekasi Selatan</th>\n",
       "      <td>1853000</td>\n",
       "      <td>2110142.86</td>\n",
       "      <td>2303000</td>\n",
       "      <td>7</td>\n",
       "    </tr>\n",
       "    <tr>\n",
       "      <th>ClinicACov Cikarang Utara</th>\n",
       "      <td>2302850</td>\n",
       "      <td>2302850.00</td>\n",
       "      <td>2302850</td>\n",
       "      <td>4</td>\n",
       "    </tr>\n",
       "    <tr>\n",
       "      <th>ClinicACov Cileungsi</th>\n",
       "      <td>1152850</td>\n",
       "      <td>1152850.00</td>\n",
       "      <td>1152850</td>\n",
       "      <td>1</td>\n",
       "    </tr>\n",
       "    <tr>\n",
       "      <th>ClinicACov Margonda</th>\n",
       "      <td>1502850</td>\n",
       "      <td>2142850.00</td>\n",
       "      <td>2302850</td>\n",
       "      <td>10</td>\n",
       "    </tr>\n",
       "    <tr>\n",
       "      <th rowspan=\"3\" valign=\"top\">Swab PCR on ClinicACov stand (Result in 1x24Hours)</th>\n",
       "      <th>ClinicACov Bekasi Timur</th>\n",
       "      <td>851850</td>\n",
       "      <td>1210631.82</td>\n",
       "      <td>1800850</td>\n",
       "      <td>11</td>\n",
       "    </tr>\n",
       "    <tr>\n",
       "      <th>ClinicACov Cikarang Pusat</th>\n",
       "      <td>851850</td>\n",
       "      <td>2674906.58</td>\n",
       "      <td>3598850</td>\n",
       "      <td>76</td>\n",
       "    </tr>\n",
       "    <tr>\n",
       "      <th>ClinicACov Cikarang Selatan</th>\n",
       "      <td>901850</td>\n",
       "      <td>901850.00</td>\n",
       "      <td>901850</td>\n",
       "      <td>1</td>\n",
       "    </tr>\n",
       "  </tbody>\n",
       "</table>\n",
       "</div>"
      ],
      "text/plain": [
       "                                                                                       min  \\\n",
       "                                                                               TotalAmount   \n",
       "Package                                            Branch                                    \n",
       "Swab Antigen Client Home (Result in 30Minutes)     ClinicACov Bekasi Selatan        352850   \n",
       "                                                   ClinicACov Cibubur               352850   \n",
       "                                                   ClinicACov Margonda              352850   \n",
       "Swab Antigen on ClinicACov stand (Result in 30M... ClinicACov Bekasi Timur          172000   \n",
       "                                                   ClinicACov Cikarang Pusat        172000   \n",
       "                                                   ClinicACov Cikarang Selatan      172000   \n",
       "                                                   ClinicACov Cileungsi             172000   \n",
       "Swab PCR Client Home (Result in D+1)               ClinicACov Bekasi Selatan       1853000   \n",
       "                                                   ClinicACov Cikarang Utara       2302850   \n",
       "                                                   ClinicACov Cileungsi            1152850   \n",
       "                                                   ClinicACov Margonda             1502850   \n",
       "Swab PCR on ClinicACov stand (Result in 1x24Hours) ClinicACov Bekasi Timur          851850   \n",
       "                                                   ClinicACov Cikarang Pusat        851850   \n",
       "                                                   ClinicACov Cikarang Selatan      901850   \n",
       "\n",
       "                                                                                      mean  \\\n",
       "                                                                               TotalAmount   \n",
       "Package                                            Branch                                    \n",
       "Swab Antigen Client Home (Result in 30Minutes)     ClinicACov Bekasi Selatan    1638692.86   \n",
       "                                                   ClinicACov Cibubur            982850.00   \n",
       "                                                   ClinicACov Margonda           943830.95   \n",
       "Swab Antigen on ClinicACov stand (Result in 30M... ClinicACov Bekasi Timur       317209.15   \n",
       "                                                   ClinicACov Cikarang Pusat     622963.84   \n",
       "                                                   ClinicACov Cikarang Selatan   320469.09   \n",
       "                                                   ClinicACov Cileungsi          228268.97   \n",
       "Swab PCR Client Home (Result in D+1)               ClinicACov Bekasi Selatan    2110142.86   \n",
       "                                                   ClinicACov Cikarang Utara    2302850.00   \n",
       "                                                   ClinicACov Cileungsi         1152850.00   \n",
       "                                                   ClinicACov Margonda          2142850.00   \n",
       "Swab PCR on ClinicACov stand (Result in 1x24Hours) ClinicACov Bekasi Timur      1210631.82   \n",
       "                                                   ClinicACov Cikarang Pusat    2674906.58   \n",
       "                                                   ClinicACov Cikarang Selatan   901850.00   \n",
       "\n",
       "                                                                                       max  \\\n",
       "                                                                               TotalAmount   \n",
       "Package                                            Branch                                    \n",
       "Swab Antigen Client Home (Result in 30Minutes)     ClinicACov Bekasi Selatan       1853000   \n",
       "                                                   ClinicACov Cibubur              1052850   \n",
       "                                                   ClinicACov Margonda             1502850   \n",
       "Swab Antigen on ClinicACov stand (Result in 30M... ClinicACov Bekasi Timur          599850   \n",
       "                                                   ClinicACov Cikarang Pusat       1196850   \n",
       "                                                   ClinicACov Cikarang Selatan      599850   \n",
       "                                                   ClinicACov Cileungsi             400850   \n",
       "Swab PCR Client Home (Result in D+1)               ClinicACov Bekasi Selatan       2303000   \n",
       "                                                   ClinicACov Cikarang Utara       2302850   \n",
       "                                                   ClinicACov Cileungsi            1152850   \n",
       "                                                   ClinicACov Margonda             2302850   \n",
       "Swab PCR on ClinicACov stand (Result in 1x24Hours) ClinicACov Bekasi Timur         1800850   \n",
       "                                                   ClinicACov Cikarang Pusat       3598850   \n",
       "                                                   ClinicACov Cikarang Selatan      901850   \n",
       "\n",
       "                                                                                     count  \n",
       "                                                                               TotalAmount  \n",
       "Package                                            Branch                                   \n",
       "Swab Antigen Client Home (Result in 30Minutes)     ClinicACov Bekasi Selatan             7  \n",
       "                                                   ClinicACov Cibubur                   10  \n",
       "                                                   ClinicACov Margonda                  21  \n",
       "Swab Antigen on ClinicACov stand (Result in 30M... ClinicACov Bekasi Timur              82  \n",
       "                                                   ClinicACov Cikarang Pusat           631  \n",
       "                                                   ClinicACov Cikarang Selatan         110  \n",
       "                                                   ClinicACov Cileungsi                 29  \n",
       "Swab PCR Client Home (Result in D+1)               ClinicACov Bekasi Selatan             7  \n",
       "                                                   ClinicACov Cikarang Utara             4  \n",
       "                                                   ClinicACov Cileungsi                  1  \n",
       "                                                   ClinicACov Margonda                  10  \n",
       "Swab PCR on ClinicACov stand (Result in 1x24Hours) ClinicACov Bekasi Timur              11  \n",
       "                                                   ClinicACov Cikarang Pusat            76  \n",
       "                                                   ClinicACov Cikarang Selatan           1  "
      ]
     },
     "execution_count": 14,
     "metadata": {},
     "output_type": "execute_result"
    }
   ],
   "source": [
    "pd.pivot_table(data = df_clinic, \n",
    "               values = 'TotalAmount', \n",
    "               index = ['Package','Branch'], \n",
    "               aggfunc = ['min','mean','max','count']).round(2)"
   ]
  },
  {
   "cell_type": "code",
   "execution_count": 15,
   "id": "f8b411fc",
   "metadata": {},
   "outputs": [
    {
     "data": {
      "text/plain": [
       "PatientGender  MedicalResult\n",
       "f              Negative         450\n",
       "               Positive          37\n",
       "m              Negative         477\n",
       "               Positive          36\n",
       "dtype: int64"
      ]
     },
     "execution_count": 15,
     "metadata": {},
     "output_type": "execute_result"
    }
   ],
   "source": [
    "df_clinic.groupby(['PatientGender','MedicalResult']).size()"
   ]
  },
  {
   "cell_type": "code",
   "execution_count": 16,
   "id": "670abc82",
   "metadata": {},
   "outputs": [
    {
     "data": {
      "text/html": [
       "<div>\n",
       "<style scoped>\n",
       "    .dataframe tbody tr th:only-of-type {\n",
       "        vertical-align: middle;\n",
       "    }\n",
       "\n",
       "    .dataframe tbody tr th {\n",
       "        vertical-align: top;\n",
       "    }\n",
       "\n",
       "    .dataframe thead th {\n",
       "        text-align: right;\n",
       "    }\n",
       "</style>\n",
       "<table border=\"1\" class=\"dataframe\">\n",
       "  <thead>\n",
       "    <tr style=\"text-align: right;\">\n",
       "      <th></th>\n",
       "      <th>GrandTotal</th>\n",
       "      <th>TotalDiscount</th>\n",
       "      <th>AdminFee</th>\n",
       "      <th>TotalAmount</th>\n",
       "    </tr>\n",
       "    <tr>\n",
       "      <th>PatientGender</th>\n",
       "      <th></th>\n",
       "      <th></th>\n",
       "      <th></th>\n",
       "      <th></th>\n",
       "    </tr>\n",
       "  </thead>\n",
       "  <tbody>\n",
       "    <tr>\n",
       "      <th>f</th>\n",
       "      <td>739597.54</td>\n",
       "      <td>4476.08</td>\n",
       "      <td>3422.92</td>\n",
       "      <td>738544.38</td>\n",
       "    </tr>\n",
       "    <tr>\n",
       "      <th>m</th>\n",
       "      <td>791559.45</td>\n",
       "      <td>2999.61</td>\n",
       "      <td>3831.71</td>\n",
       "      <td>792391.55</td>\n",
       "    </tr>\n",
       "  </tbody>\n",
       "</table>\n",
       "</div>"
      ],
      "text/plain": [
       "               GrandTotal  TotalDiscount  AdminFee  TotalAmount\n",
       "PatientGender                                                  \n",
       "f               739597.54        4476.08   3422.92    738544.38\n",
       "m               791559.45        2999.61   3831.71    792391.55"
      ]
     },
     "execution_count": 16,
     "metadata": {},
     "output_type": "execute_result"
    }
   ],
   "source": [
    "df_clinic.groupby(['PatientGender']).mean().round(2)[['GrandTotal','TotalDiscount','AdminFee','TotalAmount']]"
   ]
  },
  {
   "cell_type": "code",
   "execution_count": 17,
   "id": "1f848b10",
   "metadata": {},
   "outputs": [
    {
     "data": {
      "text/plain": [
       "array([[<AxesSubplot:title={'center':'TrxNumber'}>,\n",
       "        <AxesSubplot:title={'center':'PatientBirthDate'}>,\n",
       "        <AxesSubplot:title={'center':'GrandTotal'}>],\n",
       "       [<AxesSubplot:title={'center':'TotalDiscount'}>,\n",
       "        <AxesSubplot:title={'center':'AdminFee'}>,\n",
       "        <AxesSubplot:title={'center':'TotalAmount'}>],\n",
       "       [<AxesSubplot:title={'center':'OrderCreated'}>,\n",
       "        <AxesSubplot:title={'center':'TrxMonth'}>,\n",
       "        <AxesSubplot:title={'center':'TrxDay'}>],\n",
       "       [<AxesSubplot:title={'center':'TrxYear'}>,\n",
       "        <AxesSubplot:title={'center':'PatientYear'}>,\n",
       "        <AxesSubplot:title={'center':'PatientAge'}>]], dtype=object)"
      ]
     },
     "execution_count": 17,
     "metadata": {},
     "output_type": "execute_result"
    },
    {
     "data": {
      "image/png": "[encoded data removed]",
      "text/plain": [
       "<Figure size 1440x1080 with 12 Axes>"
      ]
     },
     "metadata": {},
     "output_type": "display_data"
    }
   ],
   "source": [
    "df_clinic.hist(figsize=(20,15))"
   ]
  },
  {
   "cell_type": "markdown",
   "id": "a3926ba6",
   "metadata": {},
   "source": [
    "## Data Cleaning"
   ]
  },
  {
   "cell_type": "markdown",
   "id": "cb8d749b",
   "metadata": {},
   "source": [
    "### Data Duplicates"
   ]
  },
  {
   "cell_type": "code",
   "execution_count": 18,
   "id": "00045db1",
   "metadata": {},
   "outputs": [
    {
     "data": {
      "text/plain": [
       "True"
      ]
     },
     "execution_count": 18,
     "metadata": {},
     "output_type": "execute_result"
    }
   ],
   "source": [
    "df_clinic.duplicated().any()"
   ]
  },
  {
   "cell_type": "code",
   "execution_count": 19,
   "id": "ed3cb36d",
   "metadata": {},
   "outputs": [],
   "source": [
    "#df_clinic.drop_duplicates(inplace=True, ignore_index = True)"
   ]
  },
  {
   "cell_type": "code",
   "execution_count": 20,
   "id": "5b39bbc6",
   "metadata": {},
   "outputs": [
    {
     "data": {
      "text/plain": [
       "True"
      ]
     },
     "execution_count": 20,
     "metadata": {},
     "output_type": "execute_result"
    }
   ],
   "source": [
    "df_clinic.duplicated().any()"
   ]
  },
  {
   "cell_type": "code",
   "execution_count": 21,
   "id": "d6f7be95",
   "metadata": {},
   "outputs": [
    {
     "name": "stdout",
     "output_type": "stream",
     "text": [
      "<class 'pandas.core.frame.DataFrame'>\n",
      "RangeIndex: 1000 entries, 0 to 999\n",
      "Data columns (total 18 columns):\n",
      " #   Column            Non-Null Count  Dtype         \n",
      "---  ------            --------------  -----         \n",
      " 0   TrxNumber         1000 non-null   int64         \n",
      " 1   TrxType           1000 non-null   object        \n",
      " 2   Branch            1000 non-null   object        \n",
      " 3   Package           1000 non-null   object        \n",
      " 4   PatientBirthDate  1000 non-null   datetime64[ns]\n",
      " 5   PatientGender     1000 non-null   object        \n",
      " 6   PromoCode         1000 non-null   object        \n",
      " 7   GrandTotal        1000 non-null   int64         \n",
      " 8   TotalDiscount     1000 non-null   int64         \n",
      " 9   AdminFee          1000 non-null   int64         \n",
      " 10  TotalAmount       1000 non-null   int64         \n",
      " 11  OrderCreated      1000 non-null   datetime64[ns]\n",
      " 12  MedicalResult     1000 non-null   object        \n",
      " 13  TrxMonth          1000 non-null   int64         \n",
      " 14  TrxDay            1000 non-null   int64         \n",
      " 15  TrxYear           1000 non-null   int64         \n",
      " 16  PatientYear       1000 non-null   int64         \n",
      " 17  PatientAge        1000 non-null   int64         \n",
      "dtypes: datetime64[ns](2), int64(10), object(6)\n",
      "memory usage: 140.8+ KB\n"
     ]
    }
   ],
   "source": [
    "df_clinic.info()"
   ]
  },
  {
   "cell_type": "markdown",
   "id": "1371bb4a",
   "metadata": {},
   "source": [
    "### Missing Values"
   ]
  },
  {
   "cell_type": "code",
   "execution_count": 22,
   "id": "072933b1",
   "metadata": {},
   "outputs": [
    {
     "data": {
      "text/plain": [
       "TrxNumber           0\n",
       "TrxType             0\n",
       "Branch              0\n",
       "Package             0\n",
       "PatientBirthDate    0\n",
       "PatientGender       0\n",
       "PromoCode           0\n",
       "GrandTotal          0\n",
       "TotalDiscount       0\n",
       "AdminFee            0\n",
       "TotalAmount         0\n",
       "OrderCreated        0\n",
       "MedicalResult       0\n",
       "TrxMonth            0\n",
       "TrxDay              0\n",
       "TrxYear             0\n",
       "PatientYear         0\n",
       "PatientAge          0\n",
       "dtype: int64"
      ]
     },
     "execution_count": 22,
     "metadata": {},
     "output_type": "execute_result"
    }
   ],
   "source": [
    "df_clinic.isna().sum()"
   ]
  },
  {
   "cell_type": "markdown",
   "id": "17c2f555",
   "metadata": {},
   "source": [
    "### Data Outliers"
   ]
  },
  {
   "cell_type": "code",
   "execution_count": 23,
   "id": "b5b6e131",
   "metadata": {},
   "outputs": [
    {
     "name": "stderr",
     "output_type": "stream",
     "text": [
      "C:\\Users\\davin\\anaconda3\\lib\\site-packages\\seaborn\\_decorators.py:36: FutureWarning: Pass the following variable as a keyword arg: x. From version 0.12, the only valid positional argument will be `data`, and passing other arguments without an explicit keyword will result in an error or misinterpretation.\n",
      "  warnings.warn(\n"
     ]
    },
    {
     "data": {
      "text/plain": [
       "<AxesSubplot:xlabel='GrandTotal'>"
      ]
     },
     "execution_count": 23,
     "metadata": {},
     "output_type": "execute_result"
    },
    {
     "data": {
      "image/png": "[encoded data removed]",
      "text/plain": [
       "<Figure size 432x288 with 1 Axes>"
      ]
     },
     "metadata": {},
     "output_type": "display_data"
    }
   ],
   "source": [
    "sns.boxplot(df_clinic['GrandTotal'], showfliers=False)"
   ]
  },
  {
   "cell_type": "code",
   "execution_count": 24,
   "id": "e4b99ebb",
   "metadata": {},
   "outputs": [
    {
     "name": "stderr",
     "output_type": "stream",
     "text": [
      "C:\\Users\\davin\\anaconda3\\lib\\site-packages\\seaborn\\_decorators.py:36: FutureWarning: Pass the following variable as a keyword arg: x. From version 0.12, the only valid positional argument will be `data`, and passing other arguments without an explicit keyword will result in an error or misinterpretation.\n",
      "  warnings.warn(\n"
     ]
    },
    {
     "data": {
      "text/plain": [
       "<AxesSubplot:xlabel='TotalDiscount'>"
      ]
     },
     "execution_count": 24,
     "metadata": {},
     "output_type": "execute_result"
    },
    {
     "data": {
      "image/png": "[encoded data removed]",
      "text/plain": [
       "<Figure size 432x288 with 1 Axes>"
      ]
     },
     "metadata": {},
     "output_type": "display_data"
    }
   ],
   "source": [
    "sns.boxplot(df_clinic['TotalDiscount'], showfliers=False)"
   ]
  },
  {
   "cell_type": "code",
   "execution_count": 25,
   "id": "be06df5b",
   "metadata": {},
   "outputs": [
    {
     "name": "stderr",
     "output_type": "stream",
     "text": [
      "C:\\Users\\davin\\anaconda3\\lib\\site-packages\\seaborn\\_decorators.py:36: FutureWarning: Pass the following variable as a keyword arg: x. From version 0.12, the only valid positional argument will be `data`, and passing other arguments without an explicit keyword will result in an error or misinterpretation.\n",
      "  warnings.warn(\n"
     ]
    },
    {
     "data": {
      "text/plain": [
       "<AxesSubplot:xlabel='AdminFee'>"
      ]
     },
     "execution_count": 25,
     "metadata": {},
     "output_type": "execute_result"
    },
    {
     "data": {
      "image/png": "[encoded data removed]",
      "text/plain": [
       "<Figure size 432x288 with 1 Axes>"
      ]
     },
     "metadata": {},
     "output_type": "display_data"
    }
   ],
   "source": [
    "sns.boxplot(df_clinic['AdminFee'], showfliers=False)"
   ]
  },
  {
   "cell_type": "code",
   "execution_count": 26,
   "id": "ddd3ea26",
   "metadata": {},
   "outputs": [
    {
     "name": "stderr",
     "output_type": "stream",
     "text": [
      "C:\\Users\\davin\\anaconda3\\lib\\site-packages\\seaborn\\_decorators.py:36: FutureWarning: Pass the following variable as a keyword arg: x. From version 0.12, the only valid positional argument will be `data`, and passing other arguments without an explicit keyword will result in an error or misinterpretation.\n",
      "  warnings.warn(\n"
     ]
    },
    {
     "data": {
      "text/plain": [
       "<AxesSubplot:xlabel='TotalAmount'>"
      ]
     },
     "execution_count": 26,
     "metadata": {},
     "output_type": "execute_result"
    },
    {
     "data": {
      "image/png": "[encoded data removed]",
      "text/plain": [
       "<Figure size 432x288 with 1 Axes>"
      ]
     },
     "metadata": {},
     "output_type": "display_data"
    }
   ],
   "source": [
    "sns.boxplot(df_clinic['TotalAmount'], showfliers=False)"
   ]
  },
  {
   "cell_type": "markdown",
   "id": "45a91400",
   "metadata": {},
   "source": [
    "## Data Visualization"
   ]
  },
  {
   "cell_type": "code",
   "execution_count": 27,
   "id": "22e0debc",
   "metadata": {},
   "outputs": [
    {
     "name": "stdout",
     "output_type": "stream",
     "text": [
      "<class 'pandas.core.frame.DataFrame'>\n",
      "RangeIndex: 1000 entries, 0 to 999\n",
      "Data columns (total 18 columns):\n",
      " #   Column            Non-Null Count  Dtype         \n",
      "---  ------            --------------  -----         \n",
      " 0   TrxNumber         1000 non-null   int64         \n",
      " 1   TrxType           1000 non-null   object        \n",
      " 2   Branch            1000 non-null   object        \n",
      " 3   Package           1000 non-null   object        \n",
      " 4   PatientBirthDate  1000 non-null   datetime64[ns]\n",
      " 5   PatientGender     1000 non-null   object        \n",
      " 6   PromoCode         1000 non-null   object        \n",
      " 7   GrandTotal        1000 non-null   int64         \n",
      " 8   TotalDiscount     1000 non-null   int64         \n",
      " 9   AdminFee          1000 non-null   int64         \n",
      " 10  TotalAmount       1000 non-null   int64         \n",
      " 11  OrderCreated      1000 non-null   datetime64[ns]\n",
      " 12  MedicalResult     1000 non-null   object        \n",
      " 13  TrxMonth          1000 non-null   int64         \n",
      " 14  TrxDay            1000 non-null   int64         \n",
      " 15  TrxYear           1000 non-null   int64         \n",
      " 16  PatientYear       1000 non-null   int64         \n",
      " 17  PatientAge        1000 non-null   int64         \n",
      "dtypes: datetime64[ns](2), int64(10), object(6)\n",
      "memory usage: 140.8+ KB\n"
     ]
    }
   ],
   "source": [
    "df_clinic.info()"
   ]
  },
  {
   "cell_type": "code",
   "execution_count": 28,
   "id": "17dc4f3f",
   "metadata": {},
   "outputs": [
    {
     "data": {
      "text/plain": [
       "<AxesSubplot:xlabel='MedicalResult', ylabel='count'>"
      ]
     },
     "execution_count": 28,
     "metadata": {},
     "output_type": "execute_result"
    },
    {
     "data": {
      "image/png": "[encoded data removed]",
      "text/plain": [
       "<Figure size 432x288 with 1 Axes>"
      ]
     },
     "metadata": {},
     "output_type": "display_data"
    }
   ],
   "source": [
    "sns.countplot(data = df_clinic, x = 'MedicalResult')"
   ]
  },
  {
   "cell_type": "code",
   "execution_count": 29,
   "id": "764e0f5f",
   "metadata": {},
   "outputs": [
    {
     "data": {
      "text/plain": [
       "<AxesSubplot:xlabel='Package', ylabel='count'>"
      ]
     },
     "execution_count": 29,
     "metadata": {},
     "output_type": "execute_result"
    },
    {
     "data": {
      "image/png": "[encoded data removed]",
      "text/plain": [
       "<Figure size 1440x720 with 1 Axes>"
      ]
     },
     "metadata": {},
     "output_type": "display_data"
    }
   ],
   "source": [
    "plt.figure(figsize=(20,10))\n",
    "sns.countplot(data = df_clinic, x = 'Package')"
   ]
  },
  {
   "cell_type": "code",
   "execution_count": 30,
   "id": "4d3bdcfc",
   "metadata": {},
   "outputs": [
    {
     "data": {
      "text/plain": [
       "<AxesSubplot:xlabel='Branch', ylabel='count'>"
      ]
     },
     "execution_count": 30,
     "metadata": {},
     "output_type": "execute_result"
    },
    {
     "data": {
      "image/png": "[encoded data removed]",
      "text/plain": [
       "<Figure size 1440x720 with 1 Axes>"
      ]
     },
     "metadata": {},
     "output_type": "display_data"
    }
   ],
   "source": [
    "plt.figure(figsize=(20,10))\n",
    "sns.countplot(data = df_clinic, x = 'Branch')"
   ]
  },
  {
   "cell_type": "code",
   "execution_count": 31,
   "id": "4b65b666",
   "metadata": {},
   "outputs": [
    {
     "data": {
      "text/plain": [
       "<AxesSubplot:xlabel='TrxMonth', ylabel='count'>"
      ]
     },
     "execution_count": 31,
     "metadata": {},
     "output_type": "execute_result"
    },
    {
     "data": {
      "image/png": "[encoded data removed]",
      "text/plain": [
       "<Figure size 432x288 with 1 Axes>"
      ]
     },
     "metadata": {},
     "output_type": "display_data"
    }
   ],
   "source": [
    "sns.countplot(data = df_clinic, x = 'TrxMonth')"
   ]
  },
  {
   "cell_type": "code",
   "execution_count": 32,
   "id": "a77cb4ae",
   "metadata": {},
   "outputs": [
    {
     "data": {
      "text/plain": [
       "<AxesSubplot:xlabel='PatientGender', ylabel='count'>"
      ]
     },
     "execution_count": 32,
     "metadata": {},
     "output_type": "execute_result"
    },
    {
     "data": {
      "image/png": "[encoded data removed]",
      "text/plain": [
       "<Figure size 432x288 with 1 Axes>"
      ]
     },
     "metadata": {},
     "output_type": "display_data"
    }
   ],
   "source": [
    "sns.countplot(data = df_clinic, x = 'PatientGender')"
   ]
  },
  {
   "cell_type": "code",
   "execution_count": 33,
   "id": "32ffcf4c",
   "metadata": {},
   "outputs": [
    {
     "data": {
      "text/plain": [
       "<seaborn.axisgrid.FacetGrid at 0x23b353c1160>"
      ]
     },
     "execution_count": 33,
     "metadata": {},
     "output_type": "execute_result"
    },
    {
     "data": {
      "image/png": "[encoded data removed]",
      "text/plain": [
       "<Figure size 360x360 with 1 Axes>"
      ]
     },
     "metadata": {},
     "output_type": "display_data"
    }
   ],
   "source": [
    "sns.catplot(data = df_clinic, x = 'PatientGender', y = 'GrandTotal', kind= 'bar')"
   ]
  },
  {
   "cell_type": "code",
   "execution_count": 34,
   "id": "84e59984",
   "metadata": {},
   "outputs": [
    {
     "data": {
      "text/plain": [
       "<AxesSubplot:xlabel='PatientGender', ylabel='count'>"
      ]
     },
     "execution_count": 34,
     "metadata": {},
     "output_type": "execute_result"
    },
    {
     "data": {
      "image/png": "[encoded data removed]",
      "text/plain": [
       "<Figure size 432x288 with 1 Axes>"
      ]
     },
     "metadata": {},
     "output_type": "display_data"
    }
   ],
   "source": [
    "sns.countplot(data = df_clinic, x = 'PatientGender',hue = 'MedicalResult')"
   ]
  },
  {
   "cell_type": "code",
   "execution_count": 35,
   "id": "8fac5846",
   "metadata": {},
   "outputs": [
    {
     "data": {
      "text/plain": [
       "<AxesSubplot:xlabel='PatientAge', ylabel='count'>"
      ]
     },
     "execution_count": 35,
     "metadata": {},
     "output_type": "execute_result"
    },
    {
     "data": {
      "image/png": "[encoded data removed]",
      "text/plain": [
       "<Figure size 2520x720 with 1 Axes>"
      ]
     },
     "metadata": {},
     "output_type": "display_data"
    }
   ],
   "source": [
    "plt.figure(figsize=(35,10))\n",
    "sns.countplot(data = df_clinic, x = 'PatientAge',hue = 'MedicalResult')"
   ]
  },
  {
   "cell_type": "code",
   "execution_count": 36,
   "id": "c909cc91",
   "metadata": {},
   "outputs": [
    {
     "data": {
      "text/plain": [
       "<AxesSubplot:xlabel='Package', ylabel='AdminFee'>"
      ]
     },
     "execution_count": 36,
     "metadata": {},
     "output_type": "execute_result"
    },
    {
     "data": {
      "image/png": "[encoded data removed]",
      "text/plain": [
       "<Figure size 1440x720 with 1 Axes>"
      ]
     },
     "metadata": {},
     "output_type": "display_data"
    }
   ],
   "source": [
    "plt.figure(figsize=(20,10))\n",
    "sns.barplot(data = df_clinic, x = 'Package', y = 'AdminFee')"
   ]
  },
  {
   "cell_type": "code",
   "execution_count": 37,
   "id": "4187657e",
   "metadata": {},
   "outputs": [
    {
     "data": {
      "text/plain": [
       "<AxesSubplot:xlabel='PatientAge', ylabel='GrandTotal'>"
      ]
     },
     "execution_count": 37,
     "metadata": {},
     "output_type": "execute_result"
    },
    {
     "data": {
      "image/png": "[encoded data removed]",
      "text/plain": [
       "<Figure size 1440x720 with 1 Axes>"
      ]
     },
     "metadata": {},
     "output_type": "display_data"
    }
   ],
   "source": [
    "plt.figure(figsize=(20,10))\n",
    "sns.barplot(data = df_clinic, x = 'PatientAge', y = 'GrandTotal')"
   ]
  },
  {
   "cell_type": "code",
   "execution_count": 38,
   "id": "00024891",
   "metadata": {},
   "outputs": [
    {
     "data": {
      "text/plain": [
       "<AxesSubplot:xlabel='Package', ylabel='GrandTotal'>"
      ]
     },
     "execution_count": 38,
     "metadata": {},
     "output_type": "execute_result"
    },
    {
     "data": {
      "image/png": "[encoded data removed]",
      "text/plain": [
       "<Figure size 1440x720 with 1 Axes>"
      ]
     },
     "metadata": {},
     "output_type": "display_data"
    }
   ],
   "source": [
    "plt.figure(figsize=(20,10))\n",
    "sns.barplot(data = df_clinic, x = 'Package', y = 'GrandTotal')"
   ]
  },
  {
   "cell_type": "code",
   "execution_count": 39,
   "id": "911b5285",
   "metadata": {},
   "outputs": [
    {
     "data": {
      "text/plain": [
       "<AxesSubplot:xlabel='Branch', ylabel='GrandTotal'>"
      ]
     },
     "execution_count": 39,
     "metadata": {},
     "output_type": "execute_result"
    },
    {
     "data": {
      "image/png": "[encoded data removed]",
      "text/plain": [
       "<Figure size 1440x720 with 1 Axes>"
      ]
     },
     "metadata": {},
     "output_type": "display_data"
    }
   ],
   "source": [
    "plt.figure(figsize=(20,10))\n",
    "sns.barplot(data = df_clinic, x = 'Branch', y = 'GrandTotal')"
   ]
  },
  {
   "cell_type": "code",
   "execution_count": 40,
   "id": "e2bd1fe2",
   "metadata": {},
   "outputs": [
    {
     "data": {
      "text/plain": [
       "<AxesSubplot:xlabel='TrxDate', ylabel='GrandTotal'>"
      ]
     },
     "execution_count": 40,
     "metadata": {},
     "output_type": "execute_result"
    },
    {
     "data": {
      "image/png": "[encoded data removed]",
      "text/plain": [
       "<Figure size 1440x576 with 1 Axes>"
      ]
     },
     "metadata": {},
     "output_type": "display_data"
    }
   ],
   "source": [
    "df_clinic['TrxDate']=df_clinic['OrderCreated'].dt.date\n",
    "plt.figure(figsize=(20,8))\n",
    "sns.lineplot(data = df_clinic, x = 'TrxDate', y = 'GrandTotal')"
   ]
  },
  {
   "cell_type": "markdown",
   "id": "36501a21",
   "metadata": {},
   "source": [
    "## Feature Engineering"
   ]
  },
  {
   "cell_type": "code",
   "execution_count": 41,
   "id": "ab54e3a2",
   "metadata": {},
   "outputs": [
    {
     "name": "stdout",
     "output_type": "stream",
     "text": [
      "<class 'pandas.core.frame.DataFrame'>\n",
      "RangeIndex: 1000 entries, 0 to 999\n",
      "Data columns (total 19 columns):\n",
      " #   Column            Non-Null Count  Dtype         \n",
      "---  ------            --------------  -----         \n",
      " 0   TrxNumber         1000 non-null   int64         \n",
      " 1   TrxType           1000 non-null   object        \n",
      " 2   Branch            1000 non-null   object        \n",
      " 3   Package           1000 non-null   object        \n",
      " 4   PatientBirthDate  1000 non-null   datetime64[ns]\n",
      " 5   PatientGender     1000 non-null   object        \n",
      " 6   PromoCode         1000 non-null   object        \n",
      " 7   GrandTotal        1000 non-null   int64         \n",
      " 8   TotalDiscount     1000 non-null   int64         \n",
      " 9   AdminFee          1000 non-null   int64         \n",
      " 10  TotalAmount       1000 non-null   int64         \n",
      " 11  OrderCreated      1000 non-null   datetime64[ns]\n",
      " 12  MedicalResult     1000 non-null   object        \n",
      " 13  TrxMonth          1000 non-null   int64         \n",
      " 14  TrxDay            1000 non-null   int64         \n",
      " 15  TrxYear           1000 non-null   int64         \n",
      " 16  PatientYear       1000 non-null   int64         \n",
      " 17  PatientAge        1000 non-null   int64         \n",
      " 18  TrxDate           1000 non-null   object        \n",
      "dtypes: datetime64[ns](2), int64(10), object(7)\n",
      "memory usage: 148.6+ KB\n"
     ]
    }
   ],
   "source": [
    "df_clinic.info()"
   ]
  },
  {
   "cell_type": "code",
   "execution_count": 42,
   "id": "c56b326c",
   "metadata": {},
   "outputs": [],
   "source": [
    "df_clinic['TrxType']=df_clinic['TrxType'].astype('category').cat.codes\n",
    "df_clinic['PromoCode']=df_clinic['PromoCode'].astype('category').cat.codes\n",
    "df_clinic['Branch']=df_clinic['Branch'].astype('category').cat.codes\n",
    "df_clinic['Package']=df_clinic['Package'].astype('category').cat.codes\n",
    "df_clinic['PatientGender']=df_clinic['PatientGender'].astype('category').cat.codes\n",
    "df_clinic['MedicalResult']=df_clinic['MedicalResult'].astype('category').cat.codes\n",
    "#df_clinic['TrxDate']=pd.to_datetime(df_clinic['TrxDate'])"
   ]
  },
  {
   "cell_type": "code",
   "execution_count": 43,
   "id": "993b999a",
   "metadata": {},
   "outputs": [
    {
     "name": "stdout",
     "output_type": "stream",
     "text": [
      "<class 'pandas.core.frame.DataFrame'>\n",
      "RangeIndex: 1000 entries, 0 to 999\n",
      "Data columns (total 19 columns):\n",
      " #   Column            Non-Null Count  Dtype         \n",
      "---  ------            --------------  -----         \n",
      " 0   TrxNumber         1000 non-null   int64         \n",
      " 1   TrxType           1000 non-null   int8          \n",
      " 2   Branch            1000 non-null   int8          \n",
      " 3   Package           1000 non-null   int8          \n",
      " 4   PatientBirthDate  1000 non-null   datetime64[ns]\n",
      " 5   PatientGender     1000 non-null   int8          \n",
      " 6   PromoCode         1000 non-null   int8          \n",
      " 7   GrandTotal        1000 non-null   int64         \n",
      " 8   TotalDiscount     1000 non-null   int64         \n",
      " 9   AdminFee          1000 non-null   int64         \n",
      " 10  TotalAmount       1000 non-null   int64         \n",
      " 11  OrderCreated      1000 non-null   datetime64[ns]\n",
      " 12  MedicalResult     1000 non-null   int8          \n",
      " 13  TrxMonth          1000 non-null   int64         \n",
      " 14  TrxDay            1000 non-null   int64         \n",
      " 15  TrxYear           1000 non-null   int64         \n",
      " 16  PatientYear       1000 non-null   int64         \n",
      " 17  PatientAge        1000 non-null   int64         \n",
      " 18  TrxDate           1000 non-null   object        \n",
      "dtypes: datetime64[ns](2), int64(10), int8(6), object(1)\n",
      "memory usage: 107.5+ KB\n"
     ]
    }
   ],
   "source": [
    "df_clinic.info()"
   ]
  },
  {
   "cell_type": "code",
   "execution_count": 44,
   "id": "2ae40f10",
   "metadata": {},
   "outputs": [
    {
     "data": {
      "image/png": "[encoded data removed]",
      "text/plain": [
       "<Figure size 1800x1080 with 2 Axes>"
      ]
     },
     "metadata": {},
     "output_type": "display_data"
    }
   ],
   "source": [
    "plt.figure(figsize=(25,15))\n",
    "corr_matrix = df_clinic.corr()\n",
    "sns.heatmap(data = corr_matrix, annot = True)\n",
    "plt.xticks(rotation=45)\n",
    "plt.show()"
   ]
  },
  {
   "cell_type": "code",
   "execution_count": 45,
   "id": "2b692f4d",
   "metadata": {},
   "outputs": [
    {
     "name": "stdout",
     "output_type": "stream",
     "text": [
      "GrandTotal       1.000000\n",
      "TotalAmount      0.999179\n",
      "Package          0.699015\n",
      "MedicalResult    0.265830\n",
      "TrxType          0.255295\n",
      "TrxMonth         0.176501\n",
      "TrxNumber        0.173031\n",
      "PromoCode        0.039333\n",
      "PatientGender    0.035768\n",
      "TotalDiscount    0.027408\n",
      "AdminFee         0.024201\n",
      "Branch           0.014207\n",
      "TrxDay           0.013540\n",
      "PatientYear      0.000139\n",
      "PatientAge       0.000139\n",
      "TrxYear               NaN\n",
      "Name: GrandTotal, dtype: float64\n"
     ]
    }
   ],
   "source": [
    "dfcorr = df_clinic.corr(method='pearson')['GrandTotal']\n",
    "sorted_dfcorr = dfcorr.abs().sort_values(ascending=False)\n",
    "print(sorted_dfcorr)"
   ]
  },
  {
   "cell_type": "code",
   "execution_count": 46,
   "id": "909eea92",
   "metadata": {},
   "outputs": [
    {
     "name": "stdout",
     "output_type": "stream",
     "text": [
      "<class 'pandas.core.frame.DataFrame'>\n",
      "RangeIndex: 1000 entries, 0 to 999\n",
      "Data columns (total 10 columns):\n",
      " #   Column         Non-Null Count  Dtype\n",
      "---  ------         --------------  -----\n",
      " 0   TrxType        1000 non-null   int8 \n",
      " 1   Branch         1000 non-null   int8 \n",
      " 2   Package        1000 non-null   int8 \n",
      " 3   PatientGender  1000 non-null   int8 \n",
      " 4   GrandTotal     1000 non-null   int64\n",
      " 5   TrxMonth       1000 non-null   int64\n",
      " 6   TrxDay         1000 non-null   int64\n",
      " 7   TrxYear        1000 non-null   int64\n",
      " 8   PatientYear    1000 non-null   int64\n",
      " 9   PatientAge     1000 non-null   int64\n",
      "dtypes: int64(6), int8(4)\n",
      "memory usage: 50.9 KB\n"
     ]
    }
   ],
   "source": [
    "adjusted_df = df_clinic.drop(['TrxNumber',\n",
    "                              'PromoCode', \n",
    "                              'AdminFee',\n",
    "                              'MedicalResult',\n",
    "                              'TotalAmount',\n",
    "                              'TotalDiscount',\n",
    "                             'OrderCreated',\n",
    "                             'PatientBirthDate',\n",
    "                              'TrxDate'],axis=1)\n",
    "adjusted_df.info()"
   ]
  },
  {
   "cell_type": "markdown",
   "id": "e2483417",
   "metadata": {},
   "source": [
    "## Machine Learning"
   ]
  },
  {
   "cell_type": "code",
   "execution_count": 47,
   "id": "114a3e59",
   "metadata": {},
   "outputs": [],
   "source": [
    "from sklearn.model_selection import train_test_split\n",
    "from sklearn.preprocessing import MinMaxScaler, StandardScaler \n",
    "from sklearn.tree import DecisionTreeClassifier, DecisionTreeRegressor\n",
    "from sklearn.ensemble import RandomForestClassifier, RandomForestRegressor\n",
    "from sklearn.linear_model import LinearRegression, LogisticRegression\n",
    "from sklearn.metrics import r2_score, mean_squared_error,mean_absolute_error\n",
    "from sklearn import metrics\n",
    "from sklearn.metrics import accuracy_score, precision_score, recall_score, roc_auc_score, roc_curve\n",
    "from sklearn.metrics import classification_report, confusion_matrix, accuracy_score\n",
    "from imblearn.over_sampling import SMOTE"
   ]
  },
  {
   "cell_type": "code",
   "execution_count": 48,
   "id": "6fdd0410",
   "metadata": {},
   "outputs": [
    {
     "name": "stdout",
     "output_type": "stream",
     "text": [
      "<class 'pandas.core.frame.DataFrame'>\n",
      "RangeIndex: 1000 entries, 0 to 999\n",
      "Data columns (total 10 columns):\n",
      " #   Column         Non-Null Count  Dtype\n",
      "---  ------         --------------  -----\n",
      " 0   TrxType        1000 non-null   int8 \n",
      " 1   Branch         1000 non-null   int8 \n",
      " 2   Package        1000 non-null   int8 \n",
      " 3   PatientGender  1000 non-null   int8 \n",
      " 4   GrandTotal     1000 non-null   int64\n",
      " 5   TrxMonth       1000 non-null   int64\n",
      " 6   TrxDay         1000 non-null   int64\n",
      " 7   TrxYear        1000 non-null   int64\n",
      " 8   PatientYear    1000 non-null   int64\n",
      " 9   PatientAge     1000 non-null   int64\n",
      "dtypes: int64(6), int8(4)\n",
      "memory usage: 50.9 KB\n"
     ]
    },
    {
     "data": {
      "text/html": [
       "<div>\n",
       "<style scoped>\n",
       "    .dataframe tbody tr th:only-of-type {\n",
       "        vertical-align: middle;\n",
       "    }\n",
       "\n",
       "    .dataframe tbody tr th {\n",
       "        vertical-align: top;\n",
       "    }\n",
       "\n",
       "    .dataframe thead th {\n",
       "        text-align: right;\n",
       "    }\n",
       "</style>\n",
       "<table border=\"1\" class=\"dataframe\">\n",
       "  <thead>\n",
       "    <tr style=\"text-align: right;\">\n",
       "      <th></th>\n",
       "      <th>TrxType</th>\n",
       "      <th>Branch</th>\n",
       "      <th>Package</th>\n",
       "      <th>PatientGender</th>\n",
       "      <th>GrandTotal</th>\n",
       "      <th>TrxMonth</th>\n",
       "      <th>TrxDay</th>\n",
       "      <th>TrxYear</th>\n",
       "      <th>PatientYear</th>\n",
       "      <th>PatientAge</th>\n",
       "    </tr>\n",
       "  </thead>\n",
       "  <tbody>\n",
       "    <tr>\n",
       "      <th>0</th>\n",
       "      <td>1</td>\n",
       "      <td>4</td>\n",
       "      <td>1</td>\n",
       "      <td>0</td>\n",
       "      <td>199000</td>\n",
       "      <td>5</td>\n",
       "      <td>4</td>\n",
       "      <td>2021</td>\n",
       "      <td>1997</td>\n",
       "      <td>24</td>\n",
       "    </tr>\n",
       "    <tr>\n",
       "      <th>1</th>\n",
       "      <td>1</td>\n",
       "      <td>4</td>\n",
       "      <td>1</td>\n",
       "      <td>0</td>\n",
       "      <td>199000</td>\n",
       "      <td>5</td>\n",
       "      <td>4</td>\n",
       "      <td>2021</td>\n",
       "      <td>1997</td>\n",
       "      <td>24</td>\n",
       "    </tr>\n",
       "    <tr>\n",
       "      <th>2</th>\n",
       "      <td>1</td>\n",
       "      <td>4</td>\n",
       "      <td>1</td>\n",
       "      <td>1</td>\n",
       "      <td>199000</td>\n",
       "      <td>5</td>\n",
       "      <td>4</td>\n",
       "      <td>2021</td>\n",
       "      <td>1998</td>\n",
       "      <td>23</td>\n",
       "    </tr>\n",
       "    <tr>\n",
       "      <th>3</th>\n",
       "      <td>1</td>\n",
       "      <td>4</td>\n",
       "      <td>1</td>\n",
       "      <td>1</td>\n",
       "      <td>199000</td>\n",
       "      <td>5</td>\n",
       "      <td>4</td>\n",
       "      <td>2021</td>\n",
       "      <td>1998</td>\n",
       "      <td>23</td>\n",
       "    </tr>\n",
       "    <tr>\n",
       "      <th>4</th>\n",
       "      <td>1</td>\n",
       "      <td>4</td>\n",
       "      <td>1</td>\n",
       "      <td>0</td>\n",
       "      <td>199000</td>\n",
       "      <td>5</td>\n",
       "      <td>4</td>\n",
       "      <td>2021</td>\n",
       "      <td>1987</td>\n",
       "      <td>34</td>\n",
       "    </tr>\n",
       "  </tbody>\n",
       "</table>\n",
       "</div>"
      ],
      "text/plain": [
       "   TrxType  Branch  Package  PatientGender  GrandTotal  TrxMonth  TrxDay  \\\n",
       "0        1       4        1              0      199000         5       4   \n",
       "1        1       4        1              0      199000         5       4   \n",
       "2        1       4        1              1      199000         5       4   \n",
       "3        1       4        1              1      199000         5       4   \n",
       "4        1       4        1              0      199000         5       4   \n",
       "\n",
       "   TrxYear  PatientYear  PatientAge  \n",
       "0     2021         1997          24  \n",
       "1     2021         1997          24  \n",
       "2     2021         1998          23  \n",
       "3     2021         1998          23  \n",
       "4     2021         1987          34  "
      ]
     },
     "execution_count": 48,
     "metadata": {},
     "output_type": "execute_result"
    }
   ],
   "source": [
    "adjusted_df.info()\n",
    "adjusted_df.head()"
   ]
  },
  {
   "cell_type": "code",
   "execution_count": 49,
   "id": "3e40957e",
   "metadata": {},
   "outputs": [],
   "source": [
    "x = adjusted_df.drop(['GrandTotal'],axis = 1)\n",
    "y = adjusted_df['GrandTotal']\n",
    "\n",
    "x_train, x_test, y_train, y_test = train_test_split(x,y, test_size = 0.20, random_state = 42)"
   ]
  },
  {
   "cell_type": "code",
   "execution_count": 50,
   "id": "00121d45",
   "metadata": {},
   "outputs": [],
   "source": [
    "std_scaler = StandardScaler()\n",
    "std_scaler.fit(x_train)\n",
    "X_train_std = std_scaler.transform(x_train)\n",
    "X_test_std = std_scaler.transform(x_test)\n",
    "\n",
    "mm_scaler = MinMaxScaler()\n",
    "mm_scaler.fit(x_train)\n",
    "X_train_mm = mm_scaler.transform(x_train)\n",
    "X_test_mm = mm_scaler.transform(x_test)"
   ]
  },
  {
   "cell_type": "markdown",
   "id": "6fe61198",
   "metadata": {},
   "source": [
    "# Linear regression"
   ]
  },
  {
   "cell_type": "code",
   "execution_count": 51,
   "id": "6c51933b",
   "metadata": {},
   "outputs": [
    {
     "name": "stdout",
     "output_type": "stream",
     "text": [
      "1.0 1.0\n"
     ]
    }
   ],
   "source": [
    "linreg = LinearRegression()\n",
    "\n",
    "linreg.fit(x_train, y_train)\n",
    "\n",
    "y_predict_test = linreg.predict(x_test)\n",
    "y_predict_train = linreg.predict(x_train)\n",
    "\n",
    "acc_linreg_test = linreg.score(x_test, y_predict_test)\n",
    "acc_linreg_train = linreg.score(x_train, y_predict_train)\n",
    "\n",
    "print(acc_linreg_train,acc_linreg_test)"
   ]
  },
  {
   "cell_type": "code",
   "execution_count": 52,
   "id": "3cb41672",
   "metadata": {},
   "outputs": [
    {
     "data": {
      "text/plain": [
       "array([-1.23993997e+06, -1.89533110e+04,  9.13236300e+05,  1.40761999e+04,\n",
       "        5.91309182e+04,  5.25542805e+03, -2.69066457e+11,  5.70160887e+16,\n",
       "        5.70160887e+16])"
      ]
     },
     "execution_count": 52,
     "metadata": {},
     "output_type": "execute_result"
    }
   ],
   "source": [
    "linreg.coef_"
   ]
  },
  {
   "cell_type": "code",
   "execution_count": 53,
   "id": "b02c8dd6",
   "metadata": {},
   "outputs": [
    {
     "data": {
      "text/plain": [
       "-1.1522897148611558e+20"
      ]
     },
     "execution_count": 53,
     "metadata": {},
     "output_type": "execute_result"
    }
   ],
   "source": [
    "linreg.intercept_"
   ]
  },
  {
   "cell_type": "code",
   "execution_count": 54,
   "id": "0daf4c1a",
   "metadata": {},
   "outputs": [
    {
     "name": "stdout",
     "output_type": "stream",
     "text": [
      "0.5389027553081351\n",
      "0.6516876874792168\n"
     ]
    }
   ],
   "source": [
    "print(r2_score(y_test,y_predict_test))\n",
    "print(r2_score(y_train,y_predict_train))"
   ]
  },
  {
   "cell_type": "code",
   "execution_count": 55,
   "id": "3ba9c63a",
   "metadata": {},
   "outputs": [
    {
     "data": {
      "text/plain": [
       "429504.84702196316"
      ]
     },
     "execution_count": 55,
     "metadata": {},
     "output_type": "execute_result"
    }
   ],
   "source": [
    "rmse = mean_squared_error(y_test,y_predict_test, squared = False)\n",
    "rmse"
   ]
  },
  {
   "cell_type": "code",
   "execution_count": 56,
   "id": "92883c05",
   "metadata": {},
   "outputs": [
    {
     "data": {
      "text/plain": [
       "59.43387582292685"
      ]
     },
     "execution_count": 56,
     "metadata": {},
     "output_type": "execute_result"
    }
   ],
   "source": [
    "si = (rmse/y_test.mean())*100\n",
    "si"
   ]
  },
  {
   "cell_type": "markdown",
   "id": "ed61e655",
   "metadata": {},
   "source": [
    "# decision tree Regressor"
   ]
  },
  {
   "cell_type": "code",
   "execution_count": 57,
   "id": "733499a2",
   "metadata": {},
   "outputs": [
    {
     "name": "stdout",
     "output_type": "stream",
     "text": [
      "1.0 1.0\n"
     ]
    }
   ],
   "source": [
    "dt = DecisionTreeRegressor()\n",
    "\n",
    "dt.fit(x_train, y_train)\n",
    "\n",
    "y_predict_test = dt.predict(x_test)\n",
    "y_predict_train = dt.predict(x_train)\n",
    "\n",
    "acc_model_test = dt.score(x_test, y_predict_test)\n",
    "acc_model_train = dt.score(x_train, y_predict_train)\n",
    "\n",
    "print(acc_model_train,acc_model_test)"
   ]
  },
  {
   "cell_type": "code",
   "execution_count": 58,
   "id": "be88c4b9",
   "metadata": {},
   "outputs": [
    {
     "name": "stdout",
     "output_type": "stream",
     "text": [
      "0.9614203660266221\n",
      "0.9925427141965898\n"
     ]
    }
   ],
   "source": [
    "print(r2_score(y_test,y_predict_test))\n",
    "print(r2_score(y_train,y_predict_train))"
   ]
  },
  {
   "cell_type": "code",
   "execution_count": 59,
   "id": "bed59305",
   "metadata": {},
   "outputs": [
    {
     "data": {
      "text/plain": [
       "46328.30555555556"
      ]
     },
     "execution_count": 59,
     "metadata": {},
     "output_type": "execute_result"
    }
   ],
   "source": [
    "mean_absolute_error(y_test,y_predict_test)"
   ]
  },
  {
   "cell_type": "code",
   "execution_count": 60,
   "id": "332fee8f",
   "metadata": {},
   "outputs": [
    {
     "data": {
      "text/plain": [
       "124236.97180191653"
      ]
     },
     "execution_count": 60,
     "metadata": {},
     "output_type": "execute_result"
    }
   ],
   "source": [
    "rmse = mean_squared_error(y_test,y_predict_test, squared = False)\n",
    "rmse"
   ]
  },
  {
   "cell_type": "code",
   "execution_count": 61,
   "id": "08a713dd",
   "metadata": {},
   "outputs": [
    {
     "data": {
      "text/plain": [
       "17.191621482013193"
      ]
     },
     "execution_count": 61,
     "metadata": {},
     "output_type": "execute_result"
    }
   ],
   "source": [
    "si = (rmse/y_test.mean())*100\n",
    "si"
   ]
  },
  {
   "cell_type": "markdown",
   "id": "715ef96d",
   "metadata": {},
   "source": [
    "# Random Forest Regressor"
   ]
  },
  {
   "cell_type": "code",
   "execution_count": 62,
   "id": "ab87dbaf",
   "metadata": {},
   "outputs": [
    {
     "name": "stderr",
     "output_type": "stream",
     "text": [
      "[Parallel(n_jobs=-1)]: Using backend ThreadingBackend with 12 concurrent workers.\n",
      "[Parallel(n_jobs=-1)]: Done  26 tasks      | elapsed:    0.0s\n",
      "[Parallel(n_jobs=-1)]: Done 176 tasks      | elapsed:    0.0s\n",
      "[Parallel(n_jobs=-1)]: Done 300 out of 300 | elapsed:    0.1s finished\n",
      "[Parallel(n_jobs=12)]: Using backend ThreadingBackend with 12 concurrent workers.\n",
      "[Parallel(n_jobs=12)]: Done  26 tasks      | elapsed:    0.0s\n",
      "[Parallel(n_jobs=12)]: Done 176 tasks      | elapsed:    0.0s\n",
      "[Parallel(n_jobs=12)]: Done 300 out of 300 | elapsed:    0.0s finished\n"
     ]
    },
    {
     "name": "stdout",
     "output_type": "stream",
     "text": [
      "1.0 1.0\n"
     ]
    },
    {
     "name": "stderr",
     "output_type": "stream",
     "text": [
      "[Parallel(n_jobs=12)]: Using backend ThreadingBackend with 12 concurrent workers.\n",
      "[Parallel(n_jobs=12)]: Done  26 tasks      | elapsed:    0.0s\n",
      "[Parallel(n_jobs=12)]: Done 176 tasks      | elapsed:    0.0s\n",
      "[Parallel(n_jobs=12)]: Done 300 out of 300 | elapsed:    0.0s finished\n",
      "[Parallel(n_jobs=12)]: Using backend ThreadingBackend with 12 concurrent workers.\n",
      "[Parallel(n_jobs=12)]: Done  26 tasks      | elapsed:    0.0s\n",
      "[Parallel(n_jobs=12)]: Done 176 tasks      | elapsed:    0.0s\n",
      "[Parallel(n_jobs=12)]: Done 300 out of 300 | elapsed:    0.0s finished\n",
      "[Parallel(n_jobs=12)]: Using backend ThreadingBackend with 12 concurrent workers.\n",
      "[Parallel(n_jobs=12)]: Done  26 tasks      | elapsed:    0.0s\n",
      "[Parallel(n_jobs=12)]: Done 176 tasks      | elapsed:    0.0s\n",
      "[Parallel(n_jobs=12)]: Done 300 out of 300 | elapsed:    0.0s finished\n"
     ]
    }
   ],
   "source": [
    "rfc = RandomForestRegressor(n_estimators = 300, random_state=42, verbose=1, n_jobs=-1)\n",
    "#parameter_rfc = {'n_estimators': [500,600,700], 'max_features':[\"log2\"]}\n",
    "#model_rfc = RandomizedSearchCV(estimator = rfc, param_distributions = parameter_rfc, cv=10, verbose=1, random_state = 42, n_jobs = -1)\n",
    "\n",
    "rfc.fit(x_train, y_train)\n",
    "#model_rfc_tuned = model_rfc.best_estimator_\n",
    "\n",
    "y_predict_test = rfc.predict(x_test)\n",
    "y_predict_train = rfc.predict(x_train)\n",
    "\n",
    "acc_rfc_test = rfc.score(x_test, y_predict_test)\n",
    "acc_rfc_train = rfc.score(x_train, y_predict_train)\n",
    "\n",
    "print(acc_rfc_train,acc_rfc_test)"
   ]
  },
  {
   "cell_type": "code",
   "execution_count": 63,
   "id": "fe12ca4e",
   "metadata": {},
   "outputs": [
    {
     "name": "stdout",
     "output_type": "stream",
     "text": [
      "0.9239904585834663\n",
      "0.9837727003090259\n"
     ]
    }
   ],
   "source": [
    "print(r2_score(y_test,y_predict_test))\n",
    "print(r2_score(y_train,y_predict_train))"
   ]
  },
  {
   "cell_type": "code",
   "execution_count": 64,
   "id": "276fff57",
   "metadata": {},
   "outputs": [
    {
     "data": {
      "text/plain": [
       "81556.05784746028"
      ]
     },
     "execution_count": 64,
     "metadata": {},
     "output_type": "execute_result"
    }
   ],
   "source": [
    "mean_absolute_error(y_test,y_predict_test)"
   ]
  },
  {
   "cell_type": "code",
   "execution_count": 65,
   "id": "b71f1cf9",
   "metadata": {},
   "outputs": [
    {
     "data": {
      "text/plain": [
       "174383.68947793075"
      ]
     },
     "execution_count": 65,
     "metadata": {},
     "output_type": "execute_result"
    }
   ],
   "source": [
    "rmse = mean_squared_error(y_test,y_predict_test, squared = False)\n",
    "rmse"
   ]
  },
  {
   "cell_type": "code",
   "execution_count": 66,
   "id": "9e2f3aea",
   "metadata": {},
   "outputs": [
    {
     "data": {
      "text/plain": [
       "24.13080694627221"
      ]
     },
     "execution_count": 66,
     "metadata": {},
     "output_type": "execute_result"
    }
   ],
   "source": [
    "si = (rmse/y_test.mean())*100\n",
    "si"
   ]
  },
  {
   "cell_type": "markdown",
   "id": "113c3462",
   "metadata": {},
   "source": [
    "# Oversampling"
   ]
  },
  {
   "cell_type": "code",
   "execution_count": 67,
   "id": "5616ce74",
   "metadata": {},
   "outputs": [],
   "source": [
    "from imblearn.over_sampling import RandomOverSampler"
   ]
  },
  {
   "cell_type": "code",
   "execution_count": 68,
   "id": "729e568d",
   "metadata": {},
   "outputs": [
    {
     "data": {
      "text/plain": [
       "398000     217\n",
       "199000     212\n",
       "796000     164\n",
       "597000     162\n",
       "995000      60\n",
       "1194000     36\n",
       "3596000     36\n",
       "1050000     27\n",
       "899000      21\n",
       "2300000     16\n",
       "1798000     16\n",
       "2697000     15\n",
       "1850000      9\n",
       "1500000      4\n",
       "350000       3\n",
       "200000       1\n",
       "1150000      1\n",
       "Name: GrandTotal, dtype: int64"
      ]
     },
     "execution_count": 68,
     "metadata": {},
     "output_type": "execute_result"
    }
   ],
   "source": [
    "adjusted_df['GrandTotal'].value_counts()"
   ]
  },
  {
   "cell_type": "code",
   "execution_count": 69,
   "id": "a77e1bc1",
   "metadata": {},
   "outputs": [
    {
     "data": {
      "text/plain": [
       "398000     217\n",
       "199000     217\n",
       "3596000    217\n",
       "995000     217\n",
       "200000     217\n",
       "1150000    217\n",
       "597000     217\n",
       "1850000    217\n",
       "2300000    217\n",
       "1500000    217\n",
       "1194000    217\n",
       "899000     217\n",
       "350000     217\n",
       "2697000    217\n",
       "1050000    217\n",
       "796000     217\n",
       "1798000    217\n",
       "Name: GrandTotal, dtype: int64"
      ]
     },
     "execution_count": 69,
     "metadata": {},
     "output_type": "execute_result"
    }
   ],
   "source": [
    "ros = RandomOverSampler(sampling_strategy='not majority')\n",
    "x_adjusted,y_adjusted = ros.fit_resample(x,y)\n",
    "\n",
    "y_adjusted.value_counts()"
   ]
  },
  {
   "cell_type": "code",
   "execution_count": 70,
   "id": "f1422660",
   "metadata": {},
   "outputs": [],
   "source": [
    "x_train, x_test, y_train, y_test = train_test_split(x_adjusted,y_adjusted, test_size = 0.20, random_state = 42)\n",
    "\n",
    "std_scaler = StandardScaler()\n",
    "std_scaler.fit(x_train)\n",
    "X_train_std = std_scaler.transform(x_train)\n",
    "X_test_std = std_scaler.transform(x_test)\n",
    "\n",
    "mm_scaler = MinMaxScaler()\n",
    "mm_scaler.fit(x_train)\n",
    "X_train_mm = mm_scaler.transform(x_train)\n",
    "X_test_mm = mm_scaler.transform(x_test)"
   ]
  },
  {
   "cell_type": "markdown",
   "id": "be86e97b",
   "metadata": {},
   "source": [
    "# resampled linreg"
   ]
  },
  {
   "cell_type": "code",
   "execution_count": 71,
   "id": "632724a5",
   "metadata": {},
   "outputs": [
    {
     "name": "stdout",
     "output_type": "stream",
     "text": [
      "1.0 1.0\n"
     ]
    }
   ],
   "source": [
    "linreg = LinearRegression()\n",
    "\n",
    "linreg.fit(x_train, y_train)\n",
    "\n",
    "y_predict_test = linreg.predict(x_test)\n",
    "y_predict_train = linreg.predict(x_train)\n",
    "\n",
    "acc_linreg_test = linreg.score(x_test, y_predict_test)\n",
    "acc_linreg_train = linreg.score(x_train, y_predict_train)\n",
    "\n",
    "print(acc_linreg_train,acc_linreg_test)"
   ]
  },
  {
   "cell_type": "code",
   "execution_count": 72,
   "id": "a9941195",
   "metadata": {},
   "outputs": [
    {
     "name": "stdout",
     "output_type": "stream",
     "text": [
      "0.54490127123738\n",
      "0.5237434520940822\n"
     ]
    }
   ],
   "source": [
    "print(r2_score(y_test,y_predict_test))\n",
    "print(r2_score(y_train,y_predict_train))"
   ]
  },
  {
   "cell_type": "code",
   "execution_count": 73,
   "id": "2d5e81f1",
   "metadata": {},
   "outputs": [
    {
     "data": {
      "text/plain": [
       "606855.3497466241"
      ]
     },
     "execution_count": 73,
     "metadata": {},
     "output_type": "execute_result"
    }
   ],
   "source": [
    "rmse = mean_squared_error(y_test,y_predict_test, squared = False)\n",
    "rmse"
   ]
  },
  {
   "cell_type": "code",
   "execution_count": 74,
   "id": "00f7be2b",
   "metadata": {},
   "outputs": [
    {
     "data": {
      "text/plain": [
       "49.385600908738994"
      ]
     },
     "execution_count": 74,
     "metadata": {},
     "output_type": "execute_result"
    }
   ],
   "source": [
    "si = (rmse/y_test.mean())*100\n",
    "si"
   ]
  },
  {
   "cell_type": "markdown",
   "id": "3eab1510",
   "metadata": {},
   "source": [
    "# resampled decision tree"
   ]
  },
  {
   "cell_type": "code",
   "execution_count": 75,
   "id": "67a7a483",
   "metadata": {},
   "outputs": [],
   "source": [
    "dt = DecisionTreeRegressor()\n",
    "\n",
    "dt.fit(x_train, y_train)\n",
    "\n",
    "y_predict_test = dt.predict(x_test)\n",
    "y_predict_train = dt.predict(x_train)\n",
    "\n",
    "acc_model_test = dt.score(x_test, y_predict_test)\n",
    "acc_model_train = dt.score(x_train, y_predict_train)\n",
    "\n",
    "#print(acc_model_train,acc_model_test)"
   ]
  },
  {
   "cell_type": "code",
   "execution_count": 76,
   "id": "9b5cd6d3",
   "metadata": {},
   "outputs": [
    {
     "name": "stdout",
     "output_type": "stream",
     "text": [
      "0.9948971241869164\n",
      "0.9980475712288631\n"
     ]
    }
   ],
   "source": [
    "print(r2_score(y_test,y_predict_test))\n",
    "print(r2_score(y_train,y_predict_train))"
   ]
  },
  {
   "cell_type": "code",
   "execution_count": 77,
   "id": "33f5f9be",
   "metadata": {},
   "outputs": [
    {
     "data": {
      "text/plain": [
       "13158.834478131463"
      ]
     },
     "execution_count": 77,
     "metadata": {},
     "output_type": "execute_result"
    }
   ],
   "source": [
    "mean_absolute_error(y_test,y_predict_test)"
   ]
  },
  {
   "cell_type": "code",
   "execution_count": 78,
   "id": "1b0baaa5",
   "metadata": {},
   "outputs": [
    {
     "data": {
      "text/plain": [
       "64259.87452835292"
      ]
     },
     "execution_count": 78,
     "metadata": {},
     "output_type": "execute_result"
    }
   ],
   "source": [
    "rmse = mean_squared_error(y_test,y_predict_test, squared = False)\n",
    "rmse"
   ]
  },
  {
   "cell_type": "code",
   "execution_count": 79,
   "id": "edf85071",
   "metadata": {},
   "outputs": [
    {
     "data": {
      "text/plain": [
       "5.229438150669502"
      ]
     },
     "execution_count": 79,
     "metadata": {},
     "output_type": "execute_result"
    }
   ],
   "source": [
    "si = (rmse/y_test.mean())*100\n",
    "si"
   ]
  },
  {
   "cell_type": "markdown",
   "id": "8f779462",
   "metadata": {},
   "source": [
    "# resampled random forest"
   ]
  },
  {
   "cell_type": "code",
   "execution_count": 80,
   "id": "b7e0da38",
   "metadata": {},
   "outputs": [
    {
     "name": "stderr",
     "output_type": "stream",
     "text": [
      "[Parallel(n_jobs=-1)]: Using backend ThreadingBackend with 12 concurrent workers.\n",
      "[Parallel(n_jobs=-1)]: Done  26 tasks      | elapsed:    0.0s\n",
      "[Parallel(n_jobs=-1)]: Done 176 tasks      | elapsed:    0.0s\n",
      "[Parallel(n_jobs=-1)]: Done 300 out of 300 | elapsed:    0.1s finished\n",
      "[Parallel(n_jobs=12)]: Using backend ThreadingBackend with 12 concurrent workers.\n",
      "[Parallel(n_jobs=12)]: Done  26 tasks      | elapsed:    0.0s\n",
      "[Parallel(n_jobs=12)]: Done 176 tasks      | elapsed:    0.0s\n",
      "[Parallel(n_jobs=12)]: Done 300 out of 300 | elapsed:    0.0s finished\n",
      "[Parallel(n_jobs=12)]: Using backend ThreadingBackend with 12 concurrent workers.\n",
      "[Parallel(n_jobs=12)]: Done  26 tasks      | elapsed:    0.0s\n",
      "[Parallel(n_jobs=12)]: Done 176 tasks      | elapsed:    0.0s\n",
      "[Parallel(n_jobs=12)]: Done 300 out of 300 | elapsed:    0.0s finished\n",
      "[Parallel(n_jobs=12)]: Using backend ThreadingBackend with 12 concurrent workers.\n",
      "[Parallel(n_jobs=12)]: Done  26 tasks      | elapsed:    0.0s\n",
      "[Parallel(n_jobs=12)]: Done 176 tasks      | elapsed:    0.0s\n",
      "[Parallel(n_jobs=12)]: Done 300 out of 300 | elapsed:    0.0s finished\n",
      "[Parallel(n_jobs=12)]: Using backend ThreadingBackend with 12 concurrent workers.\n",
      "[Parallel(n_jobs=12)]: Done  26 tasks      | elapsed:    0.0s\n",
      "[Parallel(n_jobs=12)]: Done 176 tasks      | elapsed:    0.0s\n",
      "[Parallel(n_jobs=12)]: Done 300 out of 300 | elapsed:    0.0s finished\n"
     ]
    }
   ],
   "source": [
    "rfc = RandomForestRegressor(n_estimators = 300, random_state=42, verbose=1, n_jobs=-1)\n",
    "#parameter_rfc = {'n_estimators': [500,600,700], 'max_features':[\"log2\"]}\n",
    "#model_rfc = RandomizedSearchCV(estimator = rfc, param_distributions = parameter_rfc, cv=10, verbose=1, random_state = 42, n_jobs = -1)\n",
    "\n",
    "rfc.fit(x_train, y_train)\n",
    "#model_rfc_tuned = model_rfc.best_estimator_\n",
    "\n",
    "y_predict_test = rfc.predict(x_test)\n",
    "y_predict_train = rfc.predict(x_train)\n",
    "\n",
    "acc_rfc_test = rfc.score(x_test, y_predict_test)\n",
    "acc_rfc_train = rfc.score(x_train, y_predict_train)\n"
   ]
  },
  {
   "cell_type": "code",
   "execution_count": 81,
   "id": "99da7455",
   "metadata": {},
   "outputs": [
    {
     "name": "stdout",
     "output_type": "stream",
     "text": [
      "0.9955463884905912\n",
      "0.9977133057900688\n"
     ]
    }
   ],
   "source": [
    "print(r2_score(y_test,y_predict_test))\n",
    "print(r2_score(y_train,y_predict_train))"
   ]
  },
  {
   "cell_type": "code",
   "execution_count": 82,
   "id": "09dc84cc",
   "metadata": {},
   "outputs": [
    {
     "data": {
      "text/plain": [
       "17096.413560875542"
      ]
     },
     "execution_count": 82,
     "metadata": {},
     "output_type": "execute_result"
    }
   ],
   "source": [
    "mean_absolute_error(y_test,y_predict_test)"
   ]
  },
  {
   "cell_type": "code",
   "execution_count": 83,
   "id": "925646b7",
   "metadata": {},
   "outputs": [
    {
     "data": {
      "text/plain": [
       "60032.791585117586"
      ]
     },
     "execution_count": 83,
     "metadata": {},
     "output_type": "execute_result"
    }
   ],
   "source": [
    "rmse = mean_squared_error(y_test,y_predict_test, squared = False)\n",
    "rmse"
   ]
  },
  {
   "cell_type": "code",
   "execution_count": 84,
   "id": "cdb259a9",
   "metadata": {},
   "outputs": [
    {
     "data": {
      "text/plain": [
       "4.8854401430225085"
      ]
     },
     "execution_count": 84,
     "metadata": {},
     "output_type": "execute_result"
    }
   ],
   "source": [
    "si = (rmse/y_test.mean())*100\n",
    "si"
   ]
  },
  {
   "cell_type": "code",
   "execution_count": 85,
   "id": "d736b225",
   "metadata": {},
   "outputs": [
    {
     "data": {
      "text/plain": [
       "array([0.02420236, 0.11897154, 0.48127946, 0.00876946, 0.0547456 ,\n",
       "       0.16005625, 0.        , 0.07585915, 0.07611619])"
      ]
     },
     "execution_count": 85,
     "metadata": {},
     "output_type": "execute_result"
    }
   ],
   "source": [
    "importances = rfc.feature_importances_\n",
    "importances"
   ]
  },
  {
   "cell_type": "code",
   "execution_count": 86,
   "id": "e9331661",
   "metadata": {},
   "outputs": [
    {
     "data": {
      "image/png": "[encoded data removed]",
      "text/plain": [
       "<Figure size 432x288 with 1 Axes>"
      ]
     },
     "metadata": {},
     "output_type": "display_data"
    }
   ],
   "source": [
    "forest_importances = pd.Series(importances)\n",
    "\n",
    "fig, ax = plt.subplots()\n",
    "forest_importances.plot.bar()\n",
    "ax.set_title(\"Feature importances using MDI\")\n",
    "ax.set_ylabel(\"Mean decrease in impurity\")\n",
    "fig.tight_layout()"
   ]
  },
  {
   "cell_type": "code",
   "execution_count": 87,
   "id": "8c0ecd2e",
   "metadata": {},
   "outputs": [
    {
     "name": "stdout",
     "output_type": "stream",
     "text": [
      "<class 'pandas.core.frame.DataFrame'>\n",
      "RangeIndex: 3689 entries, 0 to 3688\n",
      "Data columns (total 9 columns):\n",
      " #   Column         Non-Null Count  Dtype\n",
      "---  ------         --------------  -----\n",
      " 0   TrxType        3689 non-null   int8 \n",
      " 1   Branch         3689 non-null   int8 \n",
      " 2   Package        3689 non-null   int8 \n",
      " 3   PatientGender  3689 non-null   int8 \n",
      " 4   TrxMonth       3689 non-null   int64\n",
      " 5   TrxDay         3689 non-null   int64\n",
      " 6   TrxYear        3689 non-null   int64\n",
      " 7   PatientYear    3689 non-null   int64\n",
      " 8   PatientAge     3689 non-null   int64\n",
      "dtypes: int64(5), int8(4)\n",
      "memory usage: 158.6 KB\n"
     ]
    }
   ],
   "source": [
    "x_adjusted.info()"
   ]
  }
 ],
 "metadata": {
  "kernelspec": {
   "display_name": "Python 3 (ipykernel)",
   "language": "python",
   "name": "python3"
  },
  "language_info": {
   "codemirror_mode": {
    "name": "ipython",
    "version": 3
   },
   "file_extension": ".py",
   "mimetype": "text/x-python",
   "name": "python",
   "nbconvert_exporter": "python",
   "pygments_lexer": "ipython3",
   "version": "3.9.7"
  }
 },
 "nbformat": 4,
 "nbformat_minor": 5
}
